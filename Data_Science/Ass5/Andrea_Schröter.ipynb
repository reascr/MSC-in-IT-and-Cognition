{
 "cells": [
  {
   "cell_type": "code",
   "execution_count": 2,
   "id": "f357655a",
   "metadata": {
    "colab": {
     "base_uri": "https://localhost:8080/",
     "height": 74
    },
    "id": "f357655a",
    "outputId": "238a88ac-fd1d-4a65-cb0f-acaee43b7577"
   },
   "outputs": [],
   "source": [
    "import numpy as np\n",
    "import matplotlib.pyplot as plt\n",
    "import seaborn as sns\n",
    "import gensim.downloader as api\n",
    "from sklearn.metrics.pairwise import cosine_similarity\n",
    "from sklearn.decomposition import PCA\n",
    "from itertools import combinations\n",
    "from collections import Counter\n",
    "from nltk.probability import FreqDist\n",
    "from nltk.util import ngrams\n",
    "import re\n",
    "#from transformers import pipeline, set_seed\n",
    "#from google.colab import files\n",
    "#uploaded = files.upload()"
   ]
  },
  {
   "cell_type": "markdown",
   "id": "1e2d2c63",
   "metadata": {
    "id": "1e2d2c63"
   },
   "source": [
    "#### Neural Networks\n",
    "\n",
    "#### Exercise 1"
   ]
  },
  {
   "cell_type": "code",
   "execution_count": null,
   "id": "584daed8",
   "metadata": {
    "id": "584daed8"
   },
   "outputs": [],
   "source": []
  },
  {
   "cell_type": "markdown",
   "id": "61c191ec",
   "metadata": {
    "id": "61c191ec"
   },
   "source": [
    "#### Backpropagation\n",
    "\n",
    "#### Exercise 2"
   ]
  },
  {
   "cell_type": "code",
   "execution_count": null,
   "id": "c0387d7e",
   "metadata": {
    "id": "c0387d7e"
   },
   "outputs": [],
   "source": []
  },
  {
   "cell_type": "markdown",
   "id": "a8e5cde7",
   "metadata": {
    "id": "a8e5cde7"
   },
   "source": [
    "#### Natural Language Processing\n",
    "\n",
    "#### Exercise 3\n",
    "#### 1. Exploring Word Embeddings"
   ]
  },
  {
   "cell_type": "code",
   "execution_count": 3,
   "id": "a7ceb2b2",
   "metadata": {
    "id": "a7ceb2b2"
   },
   "outputs": [
    {
     "name": "stdout",
     "output_type": "stream",
     "text": [
      "The most similar words to 'computer' are\n",
      "1. computers: 0.875198245048523\n",
      "2. software: 0.8373122215270996\n",
      "3. technology: 0.7642159461975098\n",
      "4. pc: 0.7366448640823364\n",
      "5. hardware: 0.7290391325950623\n",
      "\n",
      "The most similar words to 'laptop' are\n",
      "1. laptops: 0.8518659472465515\n",
      "2. computers: 0.7559927105903625\n",
      "3. phones: 0.7229112386703491\n",
      "4. portable: 0.7157841324806213\n",
      "5. desktop: 0.7085692286491394\n",
      "\n",
      "The most similar words to 'queen' are\n",
      "1. princess: 0.7947244644165039\n",
      "2. king: 0.7507690191268921\n",
      "3. elizabeth: 0.7355712056159973\n",
      "4. royal: 0.7065026164054871\n",
      "5. lady: 0.7044796943664551\n",
      "\n",
      "The most similar words to 'king' are\n",
      "1. prince: 0.7682328820228577\n",
      "2. queen: 0.7507689595222473\n",
      "3. son: 0.7020888328552246\n",
      "4. brother: 0.6985775828361511\n",
      "5. monarch: 0.6977890729904175\n",
      "\n"
     ]
    }
   ],
   "source": [
    "# Download pre - trained GloVe word vectors\n",
    "glove_vectors = api.load(\"glove-wiki-gigaword-100\")\n",
    "\n",
    "words = [\"computer\", \"laptop\", \"queen\", \"king\"]\n",
    "for word in words:\n",
    "    most_sim = glove_vectors.most_similar(word,topn =5)\n",
    "    print(f\"The most similar words to '{word}' are\")\n",
    "    for i, word in enumerate(most_sim):\n",
    "        print(f\"{i+1}. {word[0]}: {word[1]}\")\n",
    "    print()\n"
   ]
  },
  {
   "cell_type": "markdown",
   "id": "7265b598",
   "metadata": {
    "id": "7265b598"
   },
   "source": [
    "#### Explanation:\n",
    "\n"
   ]
  },
  {
   "cell_type": "code",
   "execution_count": 4,
   "id": "400e597b",
   "metadata": {
    "id": "400e597b"
   },
   "outputs": [
    {
     "name": "stdout",
     "output_type": "stream",
     "text": [
      "The most similar words to the result of the vector operation 'king' - 'man' + 'woman' are:\n",
      "\n",
      "1. queen: 0.7698541283607483\n",
      "2. monarch: 0.6843380928039551\n",
      "3. throne: 0.6755736470222473\n",
      "4. daughter: 0.6594555974006653\n",
      "5. princess: 0.6520534157752991\n",
      "\n",
      "\n",
      "The most similar words to the result of the vector operation 'vehicle' - 'computer' + 'laptop' are:\n",
      "\n",
      "1. suv: 0.7571245431900024\n",
      "2. minivan: 0.7312466502189636\n",
      "3. parked: 0.7256272435188293\n",
      "4. car: 0.7248832583427429\n",
      "5. jeep: 0.7094311118125916\n"
     ]
    }
   ],
   "source": [
    "# conduct vector arithmetics\n",
    "\n",
    "result1 = glove_vectors.most_similar(positive=[\"king\", \"woman\"], negative=[\"man\"], topn=5)\n",
    "result2 = glove_vectors.most_similar(positive=[\"vehicle\", \"laptop\"], negative=[\"computer\"], topn=5)\n",
    "\n",
    "print(\"The most similar words to the result of the vector operation 'king' - 'man' + 'woman' are:\")\n",
    "print()\n",
    "for i, word in enumerate(result1):\n",
    "    print(f\"{i+1}. {word[0]}: {word[1]}\")\n",
    "print(\"\\n\")\n",
    "print(\"The most similar words to the result of the vector operation 'vehicle' - 'computer' + 'laptop' are:\")\n",
    "print()\n",
    "for i, word in enumerate(result2):\n",
    "    print(f\"{i+1}. {word[0]}: {word[1]}\")"
   ]
  },
  {
   "cell_type": "markdown",
   "id": "ae21445c",
   "metadata": {
    "id": "ae21445c"
   },
   "source": [
    "#### Explanation:\n",
    "\n",
    "\n",
    "\n",
    "\n",
    "#### 2. Investigating Societal Biases:"
   ]
  },
  {
   "cell_type": "code",
   "execution_count": 5,
   "id": "969e719e",
   "metadata": {
    "id": "969e719e"
   },
   "outputs": [
    {
     "name": "stdout",
     "output_type": "stream",
     "text": [
      "Similarity between 'engineer' and 'nurse': 0.43718859553337097\n",
      "Similarity between 'engineer' and 'scientist': 0.6081478595733643\n",
      "Similarity between 'nurse' and 'scientist': 0.3445221483707428\n",
      "\n",
      "Similarity between 'james' and 'emily': 0.520024836063385\n",
      "Similarity between 'james' and 'mohammed': 0.18603792786598206\n",
      "Similarity between 'james' and 'ling': 0.18465358018875122\n",
      "Similarity between 'james' and 'juan': 0.3696228861808777\n",
      "Similarity between 'james' and 'fatima': 0.00801914744079113\n",
      "Similarity between 'emily' and 'mohammed': 0.10634013265371323\n",
      "Similarity between 'emily' and 'ling': 0.14373600482940674\n",
      "Similarity between 'emily' and 'juan': 0.18589052557945251\n",
      "Similarity between 'emily' and 'fatima': 0.28988373279571533\n",
      "Similarity between 'mohammed' and 'ling': 0.136818528175354\n",
      "Similarity between 'mohammed' and 'juan': 0.1896083652973175\n",
      "Similarity between 'mohammed' and 'fatima': 0.41418784856796265\n",
      "Similarity between 'ling' and 'juan': 0.21996815502643585\n",
      "Similarity between 'ling' and 'fatima': 0.23851272463798523\n",
      "Similarity between 'juan' and 'fatima': 0.2104911208152771\n"
     ]
    }
   ],
   "source": [
    "# comparing similarities\n",
    "professions = [\"engineer\", \"nurse\", \"scientist\"]\n",
    "names = [\"james\", \"emily\", \"mohammed\", \"ling\", \"juan\", \"fatima\"]\n",
    "\n",
    "# get combinations of the two lists\n",
    "combinations_professions = list(combinations(professions, 2))\n",
    "combinations_names = list(combinations(names, 2))\n",
    "\n",
    "for combination in combinations_professions:\n",
    "    vector1 = glove_vectors[combination[0]].reshape(1,-1)\n",
    "    vector2 = glove_vectors[combination[1]].reshape(1,-1)\n",
    "    sim = cosine_similarity(vector1, vector2)[0]\n",
    "    print(f\"Similarity between '{combination[0]}' and '{combination[1]}': {sim[0]}\")\n",
    "print()\n",
    "for combination in combinations_names:\n",
    "    vector1 = glove_vectors[combination[0]].reshape(1,-1)\n",
    "    vector2 = glove_vectors[combination[1]].reshape(1,-1)\n",
    "    sim = cosine_similarity(vector1, vector2)[0]\n",
    "    print(f\"Similarity between '{combination[0]}' and '{combination[1]}': {sim[0]}\")"
   ]
  },
  {
   "cell_type": "code",
   "execution_count": 6,
   "id": "095a6115",
   "metadata": {
    "id": "095a6115"
   },
   "outputs": [
    {
     "data": {
      "image/png": "[encoded data removed]",
      "text/plain": [
       "<Figure size 640x480 with 1 Axes>"
      ]
     },
     "metadata": {},
     "output_type": "display_data"
    }
   ],
   "source": [
    "words = [\"king\", \"queen\", \"man\", \"woman\", \"nurse\", \"engineer\"]\n",
    "word_vectors = [glove_vectors[word] for word in words]\n",
    "\n",
    "# use PCA to reduce dimensions of word embeddings to 2D\n",
    "pca = PCA(n_components=2)\n",
    "vectors_reduced = pca.fit_transform(word_vectors)\n",
    "\n",
    "# scatter plot\n",
    "sns.scatterplot(x=vectors_reduced[:, 0], y=vectors_reduced[:, 1], color=\"magenta\")\n",
    "\n",
    "for i, word in enumerate(words):\n",
    "    plt.annotate(word, (vectors_reduced[i, 0], vectors_reduced[i, 1]))\n",
    "\n",
    "plt.title('Word Embeddings after dimensionality reduction to 2D (PCA)')\n",
    "plt.xlabel('Principal Component 1')\n",
    "plt.ylabel('Principal Component 2')\n",
    "plt.show()"
   ]
  },
  {
   "cell_type": "markdown",
   "id": "64ff3c22",
   "metadata": {
    "id": "64ff3c22"
   },
   "source": [
    "#### Discussion:"
   ]
  },
  {
   "cell_type": "markdown",
   "id": "42df5da6",
   "metadata": {
    "id": "42df5da6"
   },
   "source": [
    "#### Exercise 4"
   ]
  },
  {
   "cell_type": "code",
   "execution_count": 7,
   "id": "YfdjZ5fh1Iym",
   "metadata": {
    "id": "YfdjZ5fh1Iym"
   },
   "outputs": [],
   "source": [
    "# read in data\n",
    "with open(\"text_corpus.txt\", \"r\") as file:\n",
    "    text = file.read()\n",
    "\n",
    "# We split each word and punctuation into a separate token\n",
    "\n",
    "tokenized_text = re.findall(r\"[\\w']+|[. ,!?;]\" ,text.lower())\n",
    "\n",
    "# We remove punctuation etc.\n",
    "words = [word for word in tokenized_text if word.isalpha()] #DOES NOT KEEP THE ORDER\n",
    "sentence_prefixes = [\"It is not for me to\" , \"Sherlock Holmes is\" , \"The mystery of\"]"
   ]
  },
  {
   "cell_type": "code",
   "execution_count": 24,
   "id": "e7f395cd",
   "metadata": {},
   "outputs": [],
   "source": [
    "# predict next word for a prefix based on the last word in the prefix given corpus frequency (word counts) \n",
    "\n",
    "def predict_next_word(ngram_model, tokenized_text, prefix, max_length=20):\n",
    "    last_word = prefix.split()[-1]\n",
    "    continuation = \" \"\n",
    "    for i in range(max_length):\n",
    "        next_word = ngram_model(tokenized_text,prefix+continuation)\n",
    "        continuation += \" \" + next_word\n",
    "        last_word = next_word\n",
    "        \n",
    "    print(prefix + \"\\033[1m\" + continuation + \"\\033[0m\")\n",
    "\n",
    "\n",
    "# WAR WAHRSCHEINLICH ANDERS GEMEINT... next 20 words, wie eine Kette immer vom Ende weiter\n",
    "# ALSO: N Gram as naive bayes?"
   ]
  },
  {
   "cell_type": "code",
   "execution_count": 25,
   "id": "57592ced",
   "metadata": {},
   "outputs": [
    {
     "name": "stdout",
     "output_type": "stream",
     "text": [
      "It is not for me to\u001b[1m  the the the the the the the the the the the the the the the the the the the the\u001b[0m\n",
      "It is not for me to\u001b[1m  the door and i have been a little more than i have been a little more than i have been\u001b[0m\n",
      "It is not for me to\u001b[1m  be a man who is in a few minutes with his head sunk upon his face was bent downward his\u001b[0m\n",
      "--------------------\n",
      "Sherlock Holmes is\u001b[1m  the the the the the the the the the the the the the the the the the the the the\u001b[0m\n",
      "Sherlock Holmes is\u001b[1m  a little more than i have been a little more than i have been a little more than i have\u001b[0m\n",
      "No relevant trigrams found. Returning bigram model prediction.\n",
      "Sherlock Holmes is\u001b[1m  a very serious one to the other side of the house and there was a very serious one to the\u001b[0m\n",
      "--------------------\n",
      "The mystery of\u001b[1m  the the the the the the the the the the the the the the the the the the the the\u001b[0m\n",
      "The mystery of\u001b[1m  the door and i have been a little more than i have been a little more than i have been\u001b[0m\n",
      "The mystery of\u001b[1m  the house and there was a very serious one to the other side of the house and there was a\u001b[0m\n",
      "--------------------\n"
     ]
    }
   ],
   "source": [
    "# unigram model \n",
    "\n",
    "def unigram_model(tokenized_text,prefix): # predicts most frequent token\n",
    "    unigram_fr = FreqDist(tokenized_text) # get frequencies of tokens\n",
    "    most_frequent_unigram = unigram_fr.max() # get most frequent unigram\n",
    "    return most_frequent_unigram\n",
    "\n",
    "# bigram model\n",
    "def bigram_model(tokenized_text, prefix):\n",
    "    '''\n",
    "    Bigram model that predicts the next word based on the previous one\n",
    "    '''\n",
    "    bigrams = list(ngrams(tokenized_text, 2)) # generate bigrams\n",
    "    last_word = prefix.split()[-1] # get last word\n",
    "    last_word_bigrams = [bigram for bigram in bigrams if bigram[0] == last_word] # filter out bigrams that do not have the last word of the prefix as first part\n",
    "    if not last_word_bigrams:  # check if the filtered trigram list is empty\n",
    "        print(\"No relevant bigrams found. Returning unigram model prediction.\")\n",
    "        return unigram_model(tokenized_text,prefix) # return prediction made by bigram model if there are no filtered trigrams\n",
    "    bigram_fr = FreqDist(last_word_bigrams) # create frequency distribution over filtered bigrams\n",
    "    most_frequent_bigram = bigram_fr.max() # get most frequent filtered bigram\n",
    "    return most_frequent_bigram[1] # return predicted next word based on the last word of the prefix\n",
    "    \n",
    "# trigram model\n",
    "\n",
    "def trigram_model(tokenized_text, prefix):\n",
    "    trigrams = list(ngrams(tokenized_text, 3)) # generate trigrams\n",
    "    last_two_words = prefix.split()[-2:] # get last two words\n",
    "    last_word_trigrams = [trigram for trigram in trigrams if trigram[0] == last_two_words[0] and trigram[1] == last_two_words[1]] # filter out trigrams that do not have the last two words of the prefix as first part\n",
    "    if not last_word_trigrams:  # check if the filtered trigram list is empty\n",
    "        print(\"No relevant trigrams found. Returning bigram model prediction.\")\n",
    "        return bigram_model(tokenized_text,prefix) # return prediction made by bigram model if there are no filtered trigrams\n",
    "    trigram_fr = FreqDist(last_word_trigrams) # create frequency distribution over filtered trigrams\n",
    "    most_frequent_trigram = trigram_fr.max() # get most frequent filtered trigram\n",
    "    return most_frequent_trigram[2] # return predicted next word based on the last two words of the prefix\n",
    "\n",
    "models = [unigram_model, bigram_model, trigram_model]\n",
    "\n",
    "for prefix in sentence_prefixes:\n",
    "    for model in models:\n",
    "        predict_next_word(model, words, prefix)\n",
    "    print(\"--------------------\")"
   ]
  },
  {
   "cell_type": "code",
   "execution_count": 19,
   "id": "6000daf8",
   "metadata": {
    "colab": {
     "base_uri": "https://localhost:8080/"
    },
    "id": "6000daf8",
    "outputId": "4126f395-4fc5-431f-a7f4-8215d8d73659"
   },
   "outputs": [
    {
     "name": "stdout",
     "output_type": "stream",
     "text": [
      "1. It is not for me to speculate what that means. But whatever the final conclusion, I believe it\n",
      "\n",
      "2. It is not for me to deny the fact that you and I live in real peace with our circumstances\n",
      "\n",
      "3. It is not for me to ask you what the other part is for you, or how to approach\n",
      "\n",
      "----------------------\n",
      "\n",
      "1. Sherlock Holmes is being prosecuted in the United States on the \"serious and aggravated computer fraud\" charge\n",
      "\n",
      "2. Sherlock Holmes is a man of few words.\n",
      "\n",
      "He's been in over 600 police shootings\n",
      "\n",
      "3. Sherlock Holmes is a regular on TNT's All In and features on a diverse roster of TV shows\n",
      "\n",
      "----------------------\n",
      "\n",
      "1. The mystery of this book?\n",
      "\n",
      "The books are not necessarily a collection of the same titles and\n",
      "\n",
      "2. The mystery of the existence of extraterrestrial species is not unknown. The most well known example is the\n",
      "\n",
      "3. The mystery of the man's disappearance was first reported in the New York Times on November 12, and\n",
      "\n",
      "----------------------\n",
      "\n"
     ]
    }
   ],
   "source": [
    "# use a pre-trained language model (gpt-2), to predict the continuation of sentence prefixes\n",
    "generator = pipeline('text-generation', model='gpt2')\n",
    "set_seed(42)\n",
    "\n",
    "# TODO: predict the sentence given the sentence prefixes\n",
    "for prefix in sentence_prefixes:\n",
    "  results = generator(prefix, max_length=20, num_return_sequences=3, pad_token_id=generator.tokenizer.eos_token_id, truncation=True)\n",
    "  for i,result in enumerate(results):\n",
    "      print(f\"{i+1}. {result['generated_text']}\")\n",
    "      print()\n",
    "\n",
    "  print(\"----------------------\")\n",
    "  print()"
   ]
  },
  {
   "cell_type": "markdown",
   "id": "be7636ea",
   "metadata": {},
   "source": [
    "#### Discussion\n",
    "- limitation of trigrams or generally n grams: the higher n the higher possibility that the n gram is not found in the corpus --> deal with missing trigrams, could return n-1-gram prediction.\n",
    "- coherence --> not sure what is meant by that, trigram outperforms bigram and unigram for first prefix. Same result for third one and on second one, no relevant trigram found. UNKNOWN WORDS\n",
    "- relevance -->\n",
    "- creativity --> language model outperforms n-grams and the frequency based approach (predicting next word based on the last word in the prefix, essentially bigram approach).\n",
    "\n",
    "first two approaches: only one word, language model predicts more words."
   ]
  },
  {
   "cell_type": "markdown",
   "id": "f9eed7c4",
   "metadata": {
    "id": "f9eed7c4"
   },
   "source": [
    "#### Computer Vision\n",
    "\n",
    "#### Exercise 5"
   ]
  },
  {
   "cell_type": "markdown",
   "id": "a7dd24b5",
   "metadata": {
    "id": "dd6e4fdb"
   },
   "source": [
    "See additional .ipynb file."
   ]
  },
  {
   "cell_type": "markdown",
   "id": "b867368e",
   "metadata": {
    "id": "b867368e"
   },
   "source": [
    "#### References"
   ]
  }
 ],
 "metadata": {
  "authors": [
   {
    "name": "Andrea Schröter, kbn999"
   }
  ],
  "colab": {
   "provenance": []
  },
  "kernelspec": {
   "display_name": "IDS-A1",
   "language": "python",
   "name": "ids-a1"
  },
  "language_info": {
   "codemirror_mode": {
    "name": "ipython",
    "version": 3
   },
   "file_extension": ".py",
   "mimetype": "text/x-python",
   "name": "python",
   "nbconvert_exporter": "python",
   "pygments_lexer": "ipython3",
   "version": "3.8.16"
  },
  "title": "Introduction to Data Science 2024: Assignment 5"
 },
 "nbformat": 4,
 "nbformat_minor": 5
}
