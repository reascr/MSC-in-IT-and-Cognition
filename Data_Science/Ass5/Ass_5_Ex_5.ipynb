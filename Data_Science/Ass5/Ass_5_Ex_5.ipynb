{
 "cells": [
  {
   "cell_type": "markdown",
   "metadata": {
    "id": "qL2_31R70NN0"
   },
   "source": [
    "# IDS Assignment 5 – Computer Vision\n",
    "\n",
    "To work in this Colab notebook, first save a copy of it via \"File\" -> \"Save a copy in Drive\" in the top-left menu bar.\n"
   ]
  },
  {
   "cell_type": "markdown",
   "metadata": {
    "id": "tBBfHMPW0ZQ4"
   },
   "source": [
    "### 1. Install all missing packages that we need an download our custom FashionMNIST data\n",
    "\n",
    "The data files will be available locally in your Colab runtime. You can find them through the files menu on the left."
   ]
  },
  {
   "cell_type": "code",
   "execution_count": 1,
   "metadata": {
    "colab": {
     "base_uri": "https://localhost:8080/"
    },
    "id": "OxY0aSy-6hGc",
    "outputId": "65871722-4016-482b-ac02-5a711c58497c"
   },
   "outputs": [
    {
     "name": "stdout",
     "output_type": "stream",
     "text": [
      "Collecting torchmetrics\n",
      "  Using cached torchmetrics-1.3.2-py3-none-any.whl (841 kB)\n",
      "Requirement already satisfied: gdown in /usr/local/lib/python3.10/dist-packages (4.7.3)\n",
      "Requirement already satisfied: numpy>1.20.0 in /usr/local/lib/python3.10/dist-packages (from torchmetrics) (1.25.2)\n",
      "Requirement already satisfied: packaging>17.1 in /usr/local/lib/python3.10/dist-packages (from torchmetrics) (24.0)\n",
      "Requirement already satisfied: torch>=1.10.0 in /usr/local/lib/python3.10/dist-packages (from torchmetrics) (2.2.1+cu121)\n",
      "Collecting lightning-utilities>=0.8.0 (from torchmetrics)\n",
      "  Using cached lightning_utilities-0.11.2-py3-none-any.whl (26 kB)\n",
      "Requirement already satisfied: filelock in /usr/local/lib/python3.10/dist-packages (from gdown) (3.13.3)\n",
      "Requirement already satisfied: requests[socks] in /usr/local/lib/python3.10/dist-packages (from gdown) (2.31.0)\n",
      "Requirement already satisfied: six in /usr/local/lib/python3.10/dist-packages (from gdown) (1.16.0)\n",
      "Requirement already satisfied: tqdm in /usr/local/lib/python3.10/dist-packages (from gdown) (4.66.2)\n",
      "Requirement already satisfied: beautifulsoup4 in /usr/local/lib/python3.10/dist-packages (from gdown) (4.12.3)\n",
      "Requirement already satisfied: setuptools in /usr/local/lib/python3.10/dist-packages (from lightning-utilities>=0.8.0->torchmetrics) (67.7.2)\n",
      "Requirement already satisfied: typing-extensions in /usr/local/lib/python3.10/dist-packages (from lightning-utilities>=0.8.0->torchmetrics) (4.10.0)\n",
      "Requirement already satisfied: sympy in /usr/local/lib/python3.10/dist-packages (from torch>=1.10.0->torchmetrics) (1.12)\n",
      "Requirement already satisfied: networkx in /usr/local/lib/python3.10/dist-packages (from torch>=1.10.0->torchmetrics) (3.2.1)\n",
      "Requirement already satisfied: jinja2 in /usr/local/lib/python3.10/dist-packages (from torch>=1.10.0->torchmetrics) (3.1.3)\n",
      "Requirement already satisfied: fsspec in /usr/local/lib/python3.10/dist-packages (from torch>=1.10.0->torchmetrics) (2023.6.0)\n",
      "Collecting nvidia-cuda-nvrtc-cu12==12.1.105 (from torch>=1.10.0->torchmetrics)\n",
      "  Using cached nvidia_cuda_nvrtc_cu12-12.1.105-py3-none-manylinux1_x86_64.whl (23.7 MB)\n",
      "Collecting nvidia-cuda-runtime-cu12==12.1.105 (from torch>=1.10.0->torchmetrics)\n",
      "  Using cached nvidia_cuda_runtime_cu12-12.1.105-py3-none-manylinux1_x86_64.whl (823 kB)\n",
      "Collecting nvidia-cuda-cupti-cu12==12.1.105 (from torch>=1.10.0->torchmetrics)\n",
      "  Using cached nvidia_cuda_cupti_cu12-12.1.105-py3-none-manylinux1_x86_64.whl (14.1 MB)\n",
      "Collecting nvidia-cudnn-cu12==8.9.2.26 (from torch>=1.10.0->torchmetrics)\n",
      "  Using cached nvidia_cudnn_cu12-8.9.2.26-py3-none-manylinux1_x86_64.whl (731.7 MB)\n",
      "Collecting nvidia-cublas-cu12==12.1.3.1 (from torch>=1.10.0->torchmetrics)\n",
      "  Using cached nvidia_cublas_cu12-12.1.3.1-py3-none-manylinux1_x86_64.whl (410.6 MB)\n",
      "Collecting nvidia-cufft-cu12==11.0.2.54 (from torch>=1.10.0->torchmetrics)\n",
      "  Using cached nvidia_cufft_cu12-11.0.2.54-py3-none-manylinux1_x86_64.whl (121.6 MB)\n",
      "Collecting nvidia-curand-cu12==10.3.2.106 (from torch>=1.10.0->torchmetrics)\n",
      "  Using cached nvidia_curand_cu12-10.3.2.106-py3-none-manylinux1_x86_64.whl (56.5 MB)\n",
      "Collecting nvidia-cusolver-cu12==11.4.5.107 (from torch>=1.10.0->torchmetrics)\n",
      "  Using cached nvidia_cusolver_cu12-11.4.5.107-py3-none-manylinux1_x86_64.whl (124.2 MB)\n",
      "Collecting nvidia-cusparse-cu12==12.1.0.106 (from torch>=1.10.0->torchmetrics)\n",
      "  Using cached nvidia_cusparse_cu12-12.1.0.106-py3-none-manylinux1_x86_64.whl (196.0 MB)\n",
      "Collecting nvidia-nccl-cu12==2.19.3 (from torch>=1.10.0->torchmetrics)\n",
      "  Downloading nvidia_nccl_cu12-2.19.3-py3-none-manylinux1_x86_64.whl (166.0 MB)\n",
      "\u001b[2K     \u001b[90m━━━━━━━━━━━━━━━━━━━━━━━━━━━━━━━━━━━━━━━━\u001b[0m \u001b[32m166.0/166.0 MB\u001b[0m \u001b[31m1.1 MB/s\u001b[0m eta \u001b[36m0:00:00\u001b[0m\n",
      "\u001b[?25hCollecting nvidia-nvtx-cu12==12.1.105 (from torch>=1.10.0->torchmetrics)\n",
      "  Downloading nvidia_nvtx_cu12-12.1.105-py3-none-manylinux1_x86_64.whl (99 kB)\n",
      "\u001b[2K     \u001b[90m━━━━━━━━━━━━━━━━━━━━━━━━━━━━━━━━━━━━━━━━\u001b[0m \u001b[32m99.1/99.1 kB\u001b[0m \u001b[31m729.2 kB/s\u001b[0m eta \u001b[36m0:00:00\u001b[0m\n",
      "\u001b[?25hRequirement already satisfied: triton==2.2.0 in /usr/local/lib/python3.10/dist-packages (from torch>=1.10.0->torchmetrics) (2.2.0)\n",
      "Collecting nvidia-nvjitlink-cu12 (from nvidia-cusolver-cu12==11.4.5.107->torch>=1.10.0->torchmetrics)\n",
      "  Downloading nvidia_nvjitlink_cu12-12.4.99-py3-none-manylinux2014_x86_64.whl (21.1 MB)\n",
      "\u001b[2K     \u001b[90m━━━━━━━━━━━━━━━━━━━━━━━━━━━━━━━━━━━━━━━━\u001b[0m \u001b[32m21.1/21.1 MB\u001b[0m \u001b[31m1.2 MB/s\u001b[0m eta \u001b[36m0:00:00\u001b[0m\n",
      "\u001b[?25hRequirement already satisfied: soupsieve>1.2 in /usr/local/lib/python3.10/dist-packages (from beautifulsoup4->gdown) (2.5)\n",
      "Requirement already satisfied: charset-normalizer<4,>=2 in /usr/local/lib/python3.10/dist-packages (from requests[socks]->gdown) (3.3.2)\n",
      "Requirement already satisfied: idna<4,>=2.5 in /usr/local/lib/python3.10/dist-packages (from requests[socks]->gdown) (3.6)\n",
      "Requirement already satisfied: urllib3<3,>=1.21.1 in /usr/local/lib/python3.10/dist-packages (from requests[socks]->gdown) (2.0.7)\n",
      "Requirement already satisfied: certifi>=2017.4.17 in /usr/local/lib/python3.10/dist-packages (from requests[socks]->gdown) (2024.2.2)\n",
      "Requirement already satisfied: PySocks!=1.5.7,>=1.5.6 in /usr/local/lib/python3.10/dist-packages (from requests[socks]->gdown) (1.7.1)\n",
      "Requirement already satisfied: MarkupSafe>=2.0 in /usr/local/lib/python3.10/dist-packages (from jinja2->torch>=1.10.0->torchmetrics) (2.1.5)\n",
      "Requirement already satisfied: mpmath>=0.19 in /usr/local/lib/python3.10/dist-packages (from sympy->torch>=1.10.0->torchmetrics) (1.3.0)\n",
      "Installing collected packages: nvidia-nvtx-cu12, nvidia-nvjitlink-cu12, nvidia-nccl-cu12, nvidia-curand-cu12, nvidia-cufft-cu12, nvidia-cuda-runtime-cu12, nvidia-cuda-nvrtc-cu12, nvidia-cuda-cupti-cu12, nvidia-cublas-cu12, lightning-utilities, nvidia-cusparse-cu12, nvidia-cudnn-cu12, nvidia-cusolver-cu12, torchmetrics\n",
      "Successfully installed lightning-utilities-0.11.2 nvidia-cublas-cu12-12.1.3.1 nvidia-cuda-cupti-cu12-12.1.105 nvidia-cuda-nvrtc-cu12-12.1.105 nvidia-cuda-runtime-cu12-12.1.105 nvidia-cudnn-cu12-8.9.2.26 nvidia-cufft-cu12-11.0.2.54 nvidia-curand-cu12-10.3.2.106 nvidia-cusolver-cu12-11.4.5.107 nvidia-cusparse-cu12-12.1.0.106 nvidia-nccl-cu12-2.19.3 nvidia-nvjitlink-cu12-12.4.99 nvidia-nvtx-cu12-12.1.105 torchmetrics-1.3.2\n",
      "Downloading...\n",
      "From: https://drive.google.com/uc?id=1zYfBlExr_LK-Ld8rmxCTqRU5RAOUVVfh\n",
      "To: /content/fashion_mnist_training.pt\n",
      "100% 3.93M/3.93M [00:00<00:00, 180MB/s]\n",
      "Downloading...\n",
      "From: https://drive.google.com/uc?id=1PJa_I3qG0P5whuARV_Se1_YUvHzR469R\n",
      "To: /content/fashion_mnist_validation.pt\n",
      "100% 786k/786k [00:00<00:00, 140MB/s]\n",
      "Downloading...\n",
      "From: https://drive.google.com/uc?id=1pC8-ummMGy1dPhHGPuNsms5_I7HpWgv2\n",
      "To: /content/fashion_mnist_test.pt\n",
      "100% 786k/786k [00:00<00:00, 148MB/s]\n"
     ]
    }
   ],
   "source": [
    "# Install packages\n",
    "!pip install torchmetrics gdown\n",
    "\n",
    "# Download training, validation, and test splits\n",
    "!gdown https://drive.google.com/uc?id=1zYfBlExr_LK-Ld8rmxCTqRU5RAOUVVfh\n",
    "!gdown https://drive.google.com/uc?id=1PJa_I3qG0P5whuARV_Se1_YUvHzR469R\n",
    "!gdown https://drive.google.com/uc?id=1pC8-ummMGy1dPhHGPuNsms5_I7HpWgv2"
   ]
  },
  {
   "cell_type": "markdown",
   "metadata": {
    "id": "Ec72Ga6812RP"
   },
   "source": [
    "### 2. Import classes and functions we will be using"
   ]
  },
  {
   "cell_type": "code",
   "execution_count": 2,
   "metadata": {
    "id": "T9VpHD-DgtpQ"
   },
   "outputs": [],
   "source": [
    "import math\n",
    "import os\n",
    "import random\n",
    "from typing import Any, Callable, Optional, Tuple\n",
    "\n",
    "import numpy as np\n",
    "import matplotlib.pyplot as plt\n",
    "import seaborn as sns\n",
    "import pandas as pd\n",
    "from PIL import Image\n",
    "from tqdm import tqdm\n",
    "\n",
    "import torch\n",
    "from torch import nn\n",
    "import torch.nn.functional as F\n",
    "from torch.optim import SGD\n",
    "from torch.optim.lr_scheduler import LinearLR\n",
    "from torch.utils.data import DataLoader\n",
    "from torchvision.datasets import VisionDataset\n",
    "from torchvision.transforms import Compose, Lambda, ToTensor\n",
    "from torchvision.models.resnet import ResNet, BasicBlock\n",
    "from torchmetrics.functional.classification import multiclass_confusion_matrix"
   ]
  },
  {
   "cell_type": "markdown",
   "metadata": {
    "id": "f5X2STV32RqW"
   },
   "source": [
    "### 3. Check which PyTorch version we are running and confirm that we are in a GPU runtime.\n",
    "If this output shows that you are not in a GPU runtime, go to \"Runtime\" in the top-left menu bar -> \"Change runtime type\" -> set \"Hardware Accelerator: GPU\"."
   ]
  },
  {
   "cell_type": "code",
   "execution_count": 3,
   "metadata": {
    "colab": {
     "base_uri": "https://localhost:8080/"
    },
    "id": "mPccgagdC5hU",
    "outputId": "d9ce8297-b208-439b-9139-d065fb237342"
   },
   "outputs": [
    {
     "name": "stdout",
     "output_type": "stream",
     "text": [
      "Running PyTorch version: 2.2.1+cu121\n",
      "CUDA available: True\n",
      "Thu Mar 28 17:19:04 2024       \n",
      "+---------------------------------------------------------------------------------------+\n",
      "| NVIDIA-SMI 535.104.05             Driver Version: 535.104.05   CUDA Version: 12.2     |\n",
      "|-----------------------------------------+----------------------+----------------------+\n",
      "| GPU  Name                 Persistence-M | Bus-Id        Disp.A | Volatile Uncorr. ECC |\n",
      "| Fan  Temp   Perf          Pwr:Usage/Cap |         Memory-Usage | GPU-Util  Compute M. |\n",
      "|                                         |                      |               MIG M. |\n",
      "|=========================================+======================+======================|\n",
      "|   0  Tesla T4                       Off | 00000000:00:04.0 Off |                    0 |\n",
      "| N/A   37C    P8              10W /  70W |      3MiB / 15360MiB |      0%      Default |\n",
      "|                                         |                      |                  N/A |\n",
      "+-----------------------------------------+----------------------+----------------------+\n",
      "                                                                                         \n",
      "+---------------------------------------------------------------------------------------+\n",
      "| Processes:                                                                            |\n",
      "|  GPU   GI   CI        PID   Type   Process name                            GPU Memory |\n",
      "|        ID   ID                                                             Usage      |\n",
      "|=======================================================================================|\n",
      "|  No running processes found                                                           |\n",
      "+---------------------------------------------------------------------------------------+\n"
     ]
    }
   ],
   "source": [
    "print(f\"Running PyTorch version: {torch.__version__}\")\n",
    "print(f\"CUDA available: {torch.cuda.is_available()}\")\n",
    "!nvidia-smi"
   ]
  },
  {
   "cell_type": "markdown",
   "metadata": {
    "id": "48pQqaEu2rl_"
   },
   "source": [
    "### 4. Make things (more) reproducible by setting random seeds\n",
    "\n",
    "See here for details: https://pytorch.org/docs/stable/notes/randomness.html"
   ]
  },
  {
   "cell_type": "code",
   "execution_count": 4,
   "metadata": {
    "id": "nl_WgwsJykDK"
   },
   "outputs": [],
   "source": [
    "seed = 42\n",
    "random.seed(seed)\n",
    "np.random.seed(seed)\n",
    "torch.manual_seed(seed)\n",
    "torch.cuda.manual_seed_all(seed)"
   ]
  },
  {
   "cell_type": "markdown",
   "metadata": {
    "id": "d9FscidJ266u"
   },
   "source": [
    "### 5. Define our custom IDS FashionMNIST PyTorch dataset\n",
    "\n",
    "Our model inherits, i.e. is a specific kind of, `VisionDataset` in torchvision.\\\n",
    "This means it has all features defined in `VisionDataset`, unless they are explicitly overridden here, \\\n",
    "plus any additional functionality that may be defined below. You can read more about `VisionDataset` here: https://pytorch.org/vision/main/generated/torchvision.datasets.VisionDataset.html."
   ]
  },
  {
   "cell_type": "code",
   "execution_count": 5,
   "metadata": {
    "id": "rQRFvmlVrXyb"
   },
   "outputs": [],
   "source": [
    "class IDSFashionMnistDataset(VisionDataset):\n",
    "    \"\"\"\n",
    "    FashionMNIST dataset for the IDS course which loads custom data files from disk\n",
    "    \"\"\"\n",
    "\n",
    "    classes = [\n",
    "        \"T-shirt/top\", \"Trouser\", \"Pullover\", \"Dress\", \"Coat\",\n",
    "        \"Sandal\", \"Shirt\", \"Sneaker\", \"Bag\", \"Ankle boot\"\n",
    "    ]\n",
    "\n",
    "    def __init__(\n",
    "        self,\n",
    "        root: str,\n",
    "        split: str = \"training\",\n",
    "        transform: Optional[Callable] = None,\n",
    "        target_transform: Optional[Callable] = None,\n",
    "    ) -> None:\n",
    "        super().__init__(root, transform=transform, target_transform=target_transform)\n",
    "\n",
    "        if not split in [\"training\", \"validation\", \"test\"]:\n",
    "            raise ValueError(\"Split should be 'training', 'validation', or 'test'.\")\n",
    "\n",
    "        self.split = split\n",
    "        self.root = root\n",
    "\n",
    "        self.data, self.targets = self._load_data()\n",
    "\n",
    "    def _load_data(self):\n",
    "        data = torch.load(os.path.join(self.root, f\"fashion_mnist_{self.split}.pt\"))\n",
    "        images = data[:, :-1].reshape(-1, 28, 28)  # 28x28 resolution\n",
    "        labels = data[:, -1]\n",
    "        return images, labels\n",
    "\n",
    "    def __getitem__(self, index: int) -> Tuple[Any, Any]:\n",
    "        \"\"\"\n",
    "        Args:\n",
    "            index (int): Index\n",
    "\n",
    "        Returns:\n",
    "            tuple: (image, target) where target is index of the target class.\n",
    "        \"\"\"\n",
    "        img, target = self.data[index], int(self.targets[index])\n",
    "\n",
    "        # doing this so that it is consistent with all other datasets\n",
    "        # to return a PIL Image\n",
    "        img = Image.fromarray(img.numpy(), mode=\"L\")\n",
    "\n",
    "        if self.transform is not None:\n",
    "            img = self.transform(img)\n",
    "\n",
    "        if self.target_transform is not None:\n",
    "            target = self.target_transform(target)\n",
    "\n",
    "        return img, target\n",
    "\n",
    "    def __len__(self):\n",
    "        return len(self.data)"
   ]
  },
  {
   "cell_type": "markdown",
   "metadata": {
    "id": "bYZm4f-G3bJb"
   },
   "source": [
    "### 6. Define our custom ResNet-18 model for FashionMNIST\n",
    "The original ResNet-18 uses 3-channel (RGB) inputs and has 1000 output classes based on ImageNet-1K.\n",
    "\n",
    "https://pytorch.org/vision/main/models/generated/torchvision.models.resnet18.html\n",
    "\n",
    "We instead use single-channel inputs (Grayscale) and 10 output classes according to FashionMNIST."
   ]
  },
  {
   "cell_type": "code",
   "execution_count": 6,
   "metadata": {
    "id": "dOKZ40RW31jy"
   },
   "outputs": [],
   "source": [
    "class FashionMnistResNet18(ResNet):\n",
    "    \"\"\"\n",
    "    Custom ResNet-18 model which uses 1 input channel (grayscale) and has 10 output classes\n",
    "    \"\"\"\n",
    "    def __init__(self):\n",
    "        super().__init__(BasicBlock, [2,2,2,2,2], num_classes=10)\n",
    "        self.conv1 = nn.Conv2d(1, 64,\n",
    "          kernel_size=(7, 7),\n",
    "          stride=(2, 2),\n",
    "          padding=(3, 3),\n",
    "          bias=False\n",
    "        )"
   ]
  },
  {
   "cell_type": "markdown",
   "metadata": {
    "id": "JtzPBiiq4RnD"
   },
   "source": [
    "### 7. Load our custom FashionMNIST data\n",
    "\n",
    "Here, we load our data using the `IDSFashionMnistDataset` class defined above. We also make use of the functionality in torchvision's `VisionDataset`, which `IDSFashionMnistDataset` inherits from, to set the transformations we want to apply when retrieving examples from our dataset. We use the `transform` keyword argument for this and compose our transformations using torchvision's `Compose` (https://pytorch.org/vision/main/generated/torchvision.transforms.Compose.html). In our base setting, the only transformation we apply is `ToTensor`, which converts our `PIL.Image` inputs into PyTorch tensors."
   ]
  },
  {
   "cell_type": "code",
   "execution_count": 7,
   "metadata": {
    "colab": {
     "base_uri": "https://localhost:8080/"
    },
    "id": "fLWIwbs1lKtT",
    "outputId": "b2c5cd08-cf13-4bf4-ddef-0067d1b3f3ca"
   },
   "outputs": [
    {
     "name": "stdout",
     "output_type": "stream",
     "text": [
      "Training dataset length = 5000\n",
      "Validation dataset length = 1000\n",
      "Test dataset length = 1000\n"
     ]
    }
   ],
   "source": [
    "# Create base transformation for our dataset\n",
    "# TODO: how can these be modified to randomly flip examples?\n",
    "base_transform = Compose([\n",
    "    ToTensor(),\n",
    "])\n",
    "\n",
    "# Load datasets\n",
    "train_dataset = IDSFashionMnistDataset(\".\", \"training\", transform=base_transform)\n",
    "validation_dataset = IDSFashionMnistDataset(\".\", \"validation\", transform=base_transform)\n",
    "test_dataset = IDSFashionMnistDataset(\".\", \"test\", transform=base_transform)\n",
    "\n",
    "# Check the sizes of our datasets\n",
    "print(f\"Training dataset length = {len(train_dataset)}\")\n",
    "print(f\"Validation dataset length = {len(validation_dataset)}\")\n",
    "print(f\"Test dataset length = {len(test_dataset)}\")"
   ]
  },
  {
   "cell_type": "markdown",
   "metadata": {
    "id": "HeQRTMvk5i52"
   },
   "source": [
    "### 8. Implement our evaluation function and training loop\n",
    "\n",
    "Below, we provide some rudimentary functionality for training and evaluation,\\\n",
    "as well as metric storing and logging, for our experiments."
   ]
  },
  {
   "cell_type": "code",
   "execution_count": 8,
   "metadata": {
    "id": "2mqMKk35ip9f"
   },
   "outputs": [],
   "source": [
    "def log_metrics(metrics: dict, step: Optional[int] = None):\n",
    "    \"\"\"\n",
    "    Log metrics stored in a dictionary\n",
    "    \"\"\"\n",
    "\n",
    "    # During training, it can be useful to also log the current step\n",
    "    if step is not None:\n",
    "        print(f\"\\nMetrics step {step}:\")\n",
    "\n",
    "    for k, v in metrics.items():\n",
    "        # We ignore the confusion matrix when logging metrics\n",
    "        if not k.endswith(\"conf_matrix\"):\n",
    "            print(f\"  {k}: {v}\")\n",
    "\n",
    "def evaluate(model, eval_dataloader, prefix=\"eval\"):\n",
    "    \"\"\"\n",
    "    Evaluation function that computes the loss, accuracy, and confusion matrix for the dataset\n",
    "    passed via the `eval_dataloader` argument\n",
    "    \"\"\"\n",
    "\n",
    "    # Define loss function\n",
    "    criterion = nn.CrossEntropyLoss()\n",
    "\n",
    "    # Move model to GPU\n",
    "    model.cuda()\n",
    "\n",
    "    # Set model to evaluation mode (e.g. to disable dropout)\n",
    "    model.eval()\n",
    "\n",
    "    eval_loss = 0\n",
    "    y_pred = None\n",
    "    y_true = None\n",
    "    num_classes = None\n",
    "\n",
    "    for batch_idx, batch in enumerate(tqdm(eval_dataloader, desc=f\"Evaluating\")):\n",
    "        # Loop over batches in dataloader\n",
    "\n",
    "        # Move batch to GPU\n",
    "        inputs, labels = batch\n",
    "        inputs = inputs.cuda()\n",
    "        labels = labels.cuda()\n",
    "\n",
    "        # Use no_grad mode to disable gradient computation\n",
    "        with torch.no_grad():\n",
    "            # Get model outputs\n",
    "            outputs = model(inputs)\n",
    "\n",
    "        # Compute loss\n",
    "        loss = criterion(outputs, labels)\n",
    "        eval_loss += loss.detach().cpu().item()\n",
    "\n",
    "        if num_classes is None:\n",
    "            num_classes = len(outputs[0])\n",
    "\n",
    "        # Get class predictions\n",
    "        preds = torch.argmax(outputs, dim=-1)\n",
    "\n",
    "        # Accumulate predictions and true classes over batches\n",
    "        y_pred = torch.cat([y_pred, preds]) if y_pred is not None else preds\n",
    "        y_true = torch.cat([y_true, labels]) if y_true is not None else labels\n",
    "\n",
    "\n",
    "    # Move predictions and true classes back to CPU\n",
    "    y_pred = y_pred.detach().cpu()\n",
    "    y_true = y_true.detach().cpu()\n",
    "\n",
    "    # Compute metrics\n",
    "    eval_loss /= len(eval_dataloader)\n",
    "    eval_acc = (y_pred == y_true).sum() / len(y_true)\n",
    "    eval_conf_matrix = multiclass_confusion_matrix(\n",
    "        y_pred, y_true, num_classes=num_classes\n",
    "    )\n",
    "\n",
    "    # Store metrics in a dictionary\n",
    "    metrics = {\n",
    "        f\"{prefix}_loss\": eval_loss,\n",
    "        f\"{prefix}_accuracy\": eval_acc.item(),\n",
    "        f\"{prefix}_conf_matrix\": eval_conf_matrix.numpy()\n",
    "    }\n",
    "\n",
    "    return metrics\n",
    "\n",
    "\n",
    "def save_best_model(model: nn.Module):\n",
    "  \"\"\"\n",
    "  Simple function that saves the weights of the specified model to disk.\n",
    "  We use this to keep track of the best model (based on validation loss).\n",
    "  \"\"\"\n",
    "  output_path = \"best_model.pt\"\n",
    "  torch.save(model.state_dict(), output_path)\n",
    "  print(f\"Saved new best model to {output_path}\\n\")\n",
    "\n",
    "\n",
    "def load_best_model(model: nn.Module, model_path: str = \"best_model.pt\"):\n",
    "  \"\"\"\n",
    "  Simple function that loads model weights stored at `model_path` into the\n",
    "  passed model of type `nn.Module`. We use this to load our best model checkpoint.\n",
    "  \"\"\"\n",
    "  model.load_state_dict(torch.load(model_path))\n",
    "  model.eval()\n",
    "  print(f\"Loaded best {model.__class__.__name__} model from {model_path}\\n\")\n",
    "  return model\n",
    "\n",
    "\n",
    "def train(\n",
    "  model: nn.Module,\n",
    "  train_dataloader: DataLoader,\n",
    "  eval_dataloader: DataLoader,\n",
    "  num_epochs: int = 20,\n",
    "  lr: float = 0.1,\n",
    "  eval_steps: int = 100\n",
    "):\n",
    "    \"\"\"\n",
    "    Training loop\n",
    "    \"\"\"\n",
    "\n",
    "    # Create SGD optimizer with specified learning rate and fixed momentum\n",
    "    optimizer = SGD(model.parameters(), lr=lr, momentum=0.9)\n",
    "\n",
    "    # Create linear learning rate decay schedule\n",
    "    scheduler = LinearLR(\n",
    "        optimizer,\n",
    "        start_factor=1.0,\n",
    "        end_factor=1e-6,\n",
    "        total_iters=len(train_dataloader) * num_epochs\n",
    "    )\n",
    "\n",
    "    # Define loss function\n",
    "    criterion = nn.CrossEntropyLoss()\n",
    "\n",
    "    # Move model to GPU\n",
    "    model.cuda()\n",
    "\n",
    "    total_loss = 0\n",
    "    total_eval_loss = 0\n",
    "    global_step = 0\n",
    "    global_eval_step = 0\n",
    "    best_eval_loss = float(\"inf\")\n",
    "\n",
    "    # Store our initial model\n",
    "    save_best_model(model)\n",
    "\n",
    "    # Create dictionary to store metrics throughout training\n",
    "    metrics_dict = {}\n",
    "\n",
    "    print(\"Starting model training\")\n",
    "\n",
    "    for epoch_idx in range(num_epochs):\n",
    "        # Epoch loop (one epoch is one pass over the full training dataset)\n",
    "\n",
    "        for batch_idx, batch in enumerate(tqdm(train_dataloader, desc=f\"Epoch {epoch_idx+1}\")):\n",
    "            # Loop over batches in training dataset\n",
    "\n",
    "            # Set model to training mode\n",
    "            model.train()\n",
    "\n",
    "            global_step += 1\n",
    "\n",
    "            # Move batch to GPU\n",
    "            inputs, labels = batch\n",
    "            inputs = inputs.cuda()\n",
    "            labels = labels.cuda()\n",
    "\n",
    "            # Get model outputs\n",
    "            outputs = model(inputs)\n",
    "\n",
    "            # Compute loss\n",
    "            loss = criterion(outputs, labels)\n",
    "            total_loss += loss.detach().cpu().item()\n",
    "\n",
    "            # Evaluation loop\n",
    "            if global_step % eval_steps == 0:\n",
    "                global_eval_step += 1\n",
    "                metrics = {\n",
    "                    \"mean_train_loss\": total_loss / global_step,\n",
    "                    \"learning_rate\": scheduler.get_last_lr()[0]\n",
    "                }\n",
    "\n",
    "                # Evaluate on validation and training datasets\n",
    "                metrics.update(evaluate(model, eval_dataloader, prefix=\"eval\"))\n",
    "                metrics.update(evaluate(model, train_dataloader, prefix=\"train\"))\n",
    "\n",
    "                # Update and log metrics\n",
    "                total_eval_loss += metrics[\"eval_loss\"]\n",
    "                metrics[\"mean_eval_loss\"] = total_eval_loss / global_eval_step\n",
    "                log_metrics(metrics, step=global_step)\n",
    "                metrics_dict[global_step] = metrics\n",
    "\n",
    "                # Check if our validation loss has decreased, and if so,\n",
    "                # update our best model checkpoint\n",
    "                if metrics[\"eval_loss\"] <= best_eval_loss:\n",
    "                  best_eval_loss = metrics[\"eval_loss\"]\n",
    "                  save_best_model(model)\n",
    "\n",
    "            # Compute gradients\n",
    "            loss.backward()\n",
    "\n",
    "            # Perform update step\n",
    "            optimizer.step()\n",
    "\n",
    "            # Reduce learning rate for stability\n",
    "            scheduler.step()\n",
    "\n",
    "            # Set gradients to zero\n",
    "            model.zero_grad()\n",
    "\n",
    "    return metrics_dict"
   ]
  },
  {
   "cell_type": "markdown",
   "metadata": {
    "id": "v2h72BWltFaY"
   },
   "source": [
    "### 9. Define hyperparameters, create dataloaders, instantiate model, and run training/evaluation procedure\n",
    "\n",
    "Here, we set our hyper-parameters for the dataloader (batch size) and the training loop \\\n",
    "(number of epochs, learning rate, and evaluation interval in steps).\n",
    "\n",
    "We only use very basic data loading functionality. More information on available features can be found here https://pytorch.org/docs/stable/data.html#torch.utils.data.DataLoader."
   ]
  },
  {
   "cell_type": "code",
   "execution_count": 9,
   "metadata": {
    "colab": {
     "base_uri": "https://localhost:8080/"
    },
    "id": "EBGaR6FmsWtF",
    "outputId": "7e0e171b-f148-477a-e25b-11993fa1a201"
   },
   "outputs": [
    {
     "name": "stdout",
     "output_type": "stream",
     "text": [
      "Saved new best model to best_model.pt\n",
      "\n",
      "Starting model training\n"
     ]
    },
    {
     "name": "stderr",
     "output_type": "stream",
     "text": [
      "Epoch 1: 100%|██████████| 20/20 [00:02<00:00,  8.57it/s]\n",
      "Epoch 2: 100%|██████████| 20/20 [00:01<00:00, 12.90it/s]\n",
      "Epoch 3: 100%|██████████| 20/20 [00:01<00:00, 10.41it/s]\n",
      "Epoch 4: 100%|██████████| 20/20 [00:01<00:00, 11.01it/s]\n",
      "Epoch 5:  95%|█████████▌| 19/20 [00:01<00:00, 11.11it/s]\n",
      "Evaluating:   0%|          | 0/4 [00:00<?, ?it/s]\u001b[A\n",
      "Evaluating:  50%|█████     | 2/4 [00:00<00:00, 10.30it/s]\u001b[A\n",
      "Evaluating: 100%|██████████| 4/4 [00:00<00:00, 11.11it/s]\n",
      "\n",
      "Evaluating:   0%|          | 0/20 [00:00<?, ?it/s]\u001b[A\n",
      "Evaluating:  10%|█         | 2/20 [00:00<00:01, 15.09it/s]\u001b[A\n",
      "Evaluating:  20%|██        | 4/20 [00:00<00:01, 10.29it/s]\u001b[A\n",
      "Evaluating:  30%|███       | 6/20 [00:00<00:01,  8.96it/s]\u001b[A\n",
      "Evaluating:  35%|███▌      | 7/20 [00:00<00:01,  8.65it/s]\u001b[A\n",
      "Evaluating:  40%|████      | 8/20 [00:00<00:01,  8.88it/s]\u001b[A\n",
      "Evaluating:  45%|████▌     | 9/20 [00:00<00:01,  9.02it/s]\u001b[A\n",
      "Evaluating:  50%|█████     | 10/20 [00:01<00:01,  8.27it/s]\u001b[A\n",
      "Evaluating:  55%|█████▌    | 11/20 [00:01<00:01,  8.48it/s]\u001b[A\n",
      "Evaluating:  60%|██████    | 12/20 [00:01<00:00,  8.62it/s]\u001b[A\n",
      "Evaluating:  65%|██████▌   | 13/20 [00:01<00:00,  8.40it/s]\u001b[A\n",
      "Evaluating:  70%|███████   | 14/20 [00:01<00:00,  7.78it/s]\u001b[A\n",
      "Evaluating:  80%|████████  | 16/20 [00:01<00:00,  8.91it/s]\u001b[A\n",
      "Evaluating:  85%|████████▌ | 17/20 [00:01<00:00,  8.49it/s]\u001b[A\n",
      "Evaluating:  90%|█████████ | 18/20 [00:02<00:00,  8.11it/s]\u001b[A\n",
      "Evaluating: 100%|██████████| 20/20 [00:02<00:00,  8.65it/s]\n"
     ]
    },
    {
     "name": "stdout",
     "output_type": "stream",
     "text": [
      "\n",
      "Metrics step 100:\n",
      "  mean_train_loss: 0.8788733670115471\n",
      "  learning_rate: 0.09505000494999999\n",
      "  eval_loss: 0.5320053547620773\n",
      "  eval_accuracy: 0.7950000166893005\n",
      "  train_loss: 0.44711886197328565\n",
      "  train_accuracy: 0.8295999765396118\n",
      "  mean_eval_loss: 0.5320053547620773\n"
     ]
    },
    {
     "name": "stderr",
     "output_type": "stream",
     "text": [
      "\r",
      "Epoch 5: 100%|██████████| 20/20 [00:05<00:00,  3.86it/s]\n"
     ]
    },
    {
     "name": "stdout",
     "output_type": "stream",
     "text": [
      "Saved new best model to best_model.pt\n",
      "\n"
     ]
    },
    {
     "name": "stderr",
     "output_type": "stream",
     "text": [
      "Epoch 6: 100%|██████████| 20/20 [00:01<00:00, 13.74it/s]\n",
      "Epoch 7: 100%|██████████| 20/20 [00:01<00:00, 15.36it/s]\n",
      "Epoch 8: 100%|██████████| 20/20 [00:01<00:00, 15.34it/s]\n",
      "Epoch 9: 100%|██████████| 20/20 [00:01<00:00, 15.26it/s]\n",
      "Epoch 10:  90%|█████████ | 18/20 [00:01<00:00, 14.99it/s]\n",
      "Evaluating:   0%|          | 0/4 [00:00<?, ?it/s]\u001b[A\n",
      "Evaluating: 100%|██████████| 4/4 [00:00<00:00, 30.16it/s]\n",
      "\n",
      "Evaluating:   0%|          | 0/20 [00:00<?, ?it/s]\u001b[A\n",
      "Evaluating:  15%|█▌        | 3/20 [00:00<00:00, 24.53it/s]\u001b[A\n",
      "Evaluating:  30%|███       | 6/20 [00:00<00:00, 26.58it/s]\u001b[A\n",
      "Evaluating:  45%|████▌     | 9/20 [00:00<00:00, 27.58it/s]\u001b[A\n",
      "Evaluating:  60%|██████    | 12/20 [00:00<00:00, 26.70it/s]\u001b[A\n",
      "Evaluating:  75%|███████▌  | 15/20 [00:00<00:00, 27.45it/s]\u001b[A\n",
      "Evaluating: 100%|██████████| 20/20 [00:00<00:00, 27.88it/s]\n",
      "Epoch 10: 100%|██████████| 20/20 [00:02<00:00,  8.66it/s]\n"
     ]
    },
    {
     "name": "stdout",
     "output_type": "stream",
     "text": [
      "\n",
      "Metrics step 200:\n",
      "  mean_train_loss: 0.61699538230896\n",
      "  learning_rate: 0.09005000994999993\n",
      "  eval_loss: 0.4862157255411148\n",
      "  eval_accuracy: 0.8379999995231628\n",
      "  train_loss: 0.2544621527194977\n",
      "  train_accuracy: 0.9034000039100647\n",
      "  mean_eval_loss: 0.5091105401515961\n",
      "Saved new best model to best_model.pt\n",
      "\n"
     ]
    },
    {
     "name": "stderr",
     "output_type": "stream",
     "text": [
      "Epoch 11: 100%|██████████| 20/20 [00:01<00:00, 15.21it/s]\n",
      "Epoch 12: 100%|██████████| 20/20 [00:01<00:00, 15.09it/s]\n",
      "Epoch 13: 100%|██████████| 20/20 [00:01<00:00, 14.92it/s]\n",
      "Epoch 14: 100%|██████████| 20/20 [00:01<00:00, 14.77it/s]\n",
      "Epoch 15:  90%|█████████ | 18/20 [00:01<00:00, 14.87it/s]\n",
      "Evaluating:   0%|          | 0/4 [00:00<?, ?it/s]\u001b[A\n",
      "Evaluating: 100%|██████████| 4/4 [00:00<00:00, 26.62it/s]\n",
      "\n",
      "Evaluating:   0%|          | 0/20 [00:00<?, ?it/s]\u001b[A\n",
      "Evaluating:  15%|█▌        | 3/20 [00:00<00:00, 29.44it/s]\u001b[A\n",
      "Evaluating:  30%|███       | 6/20 [00:00<00:00, 28.20it/s]\u001b[A\n",
      "Evaluating:  45%|████▌     | 9/20 [00:00<00:00, 27.59it/s]\u001b[A\n",
      "Evaluating:  60%|██████    | 12/20 [00:00<00:00, 28.02it/s]\u001b[A\n",
      "Evaluating:  75%|███████▌  | 15/20 [00:00<00:00, 27.83it/s]\u001b[A\n",
      "Evaluating: 100%|██████████| 20/20 [00:00<00:00, 28.02it/s]\n",
      "Epoch 15: 100%|██████████| 20/20 [00:02<00:00,  9.05it/s]\n"
     ]
    },
    {
     "name": "stdout",
     "output_type": "stream",
     "text": [
      "\n",
      "Metrics step 300:\n",
      "  mean_train_loss: 0.48417041808366773\n",
      "  learning_rate: 0.08505001494999989\n",
      "  eval_loss: 0.5576807633042336\n",
      "  eval_accuracy: 0.8360000252723694\n",
      "  train_loss: 0.1465585980564356\n",
      "  train_accuracy: 0.9455999732017517\n",
      "  mean_eval_loss: 0.5253006145358086\n"
     ]
    },
    {
     "name": "stderr",
     "output_type": "stream",
     "text": [
      "Epoch 16: 100%|██████████| 20/20 [00:01<00:00, 14.94it/s]\n",
      "Epoch 17: 100%|██████████| 20/20 [00:01<00:00, 15.16it/s]\n",
      "Epoch 18: 100%|██████████| 20/20 [00:01<00:00, 14.93it/s]\n",
      "Epoch 19: 100%|██████████| 20/20 [00:01<00:00, 15.02it/s]\n",
      "Epoch 20:  90%|█████████ | 18/20 [00:01<00:00, 14.65it/s]\n",
      "Evaluating:   0%|          | 0/4 [00:00<?, ?it/s]\u001b[A\n",
      "Evaluating: 100%|██████████| 4/4 [00:00<00:00, 26.38it/s]\n",
      "\n",
      "Evaluating:   0%|          | 0/20 [00:00<?, ?it/s]\u001b[A\n",
      "Evaluating:  10%|█         | 2/20 [00:00<00:01, 17.39it/s]\u001b[A\n",
      "Evaluating:  20%|██        | 4/20 [00:00<00:00, 17.32it/s]\u001b[A\n",
      "Evaluating:  30%|███       | 6/20 [00:00<00:00, 17.47it/s]\u001b[A\n",
      "Evaluating:  40%|████      | 8/20 [00:00<00:00, 18.37it/s]\u001b[A\n",
      "Evaluating:  50%|█████     | 10/20 [00:00<00:00, 18.49it/s]\u001b[A\n",
      "Evaluating:  65%|██████▌   | 13/20 [00:00<00:00, 19.97it/s]\u001b[A\n",
      "Evaluating:  80%|████████  | 16/20 [00:00<00:00, 20.45it/s]\u001b[A\n",
      "Evaluating: 100%|██████████| 20/20 [00:00<00:00, 20.17it/s]\n",
      "Epoch 20: 100%|██████████| 20/20 [00:02<00:00,  7.97it/s]\n"
     ]
    },
    {
     "name": "stdout",
     "output_type": "stream",
     "text": [
      "\n",
      "Metrics step 400:\n",
      "  mean_train_loss: 0.39814330663532016\n",
      "  learning_rate: 0.08005001994999977\n",
      "  eval_loss: 0.6847636923193932\n",
      "  eval_accuracy: 0.8500000238418579\n",
      "  train_loss: 0.1547524079680443\n",
      "  train_accuracy: 0.9477999806404114\n",
      "  mean_eval_loss: 0.5651663839817047\n"
     ]
    },
    {
     "name": "stderr",
     "output_type": "stream",
     "text": [
      "Epoch 21: 100%|██████████| 20/20 [00:01<00:00, 14.66it/s]\n",
      "Epoch 22: 100%|██████████| 20/20 [00:01<00:00, 14.93it/s]\n",
      "Epoch 23: 100%|██████████| 20/20 [00:01<00:00, 14.88it/s]\n",
      "Epoch 24: 100%|██████████| 20/20 [00:01<00:00, 14.83it/s]\n",
      "Epoch 25:  90%|█████████ | 18/20 [00:01<00:00, 14.58it/s]\n",
      "Evaluating:   0%|          | 0/4 [00:00<?, ?it/s]\u001b[A\n",
      "Evaluating: 100%|██████████| 4/4 [00:00<00:00, 28.78it/s]\n",
      "\n",
      "Evaluating:   0%|          | 0/20 [00:00<?, ?it/s]\u001b[A\n",
      "Evaluating:  15%|█▌        | 3/20 [00:00<00:00, 27.98it/s]\u001b[A\n",
      "Evaluating:  30%|███       | 6/20 [00:00<00:00, 27.85it/s]\u001b[A\n",
      "Evaluating:  45%|████▌     | 9/20 [00:00<00:00, 26.00it/s]\u001b[A\n",
      "Evaluating:  60%|██████    | 12/20 [00:00<00:00, 26.55it/s]\u001b[A\n",
      "Evaluating:  75%|███████▌  | 15/20 [00:00<00:00, 26.30it/s]\u001b[A\n",
      "Evaluating: 100%|██████████| 20/20 [00:00<00:00, 27.20it/s]\n",
      "Epoch 25: 100%|██████████| 20/20 [00:02<00:00,  8.90it/s]\n"
     ]
    },
    {
     "name": "stdout",
     "output_type": "stream",
     "text": [
      "\n",
      "Metrics step 500:\n",
      "  mean_train_loss: 0.33571726312488315\n",
      "  learning_rate: 0.07505002494999956\n",
      "  eval_loss: 0.8520045727491379\n",
      "  eval_accuracy: 0.8349999785423279\n",
      "  train_loss: 0.07368993815034627\n",
      "  train_accuracy: 0.97079998254776\n",
      "  mean_eval_loss: 0.6225340217351913\n"
     ]
    },
    {
     "name": "stderr",
     "output_type": "stream",
     "text": [
      "Epoch 26: 100%|██████████| 20/20 [00:01<00:00, 14.66it/s]\n",
      "Epoch 27: 100%|██████████| 20/20 [00:01<00:00, 14.59it/s]\n",
      "Epoch 28: 100%|██████████| 20/20 [00:02<00:00,  9.31it/s]\n",
      "Epoch 29: 100%|██████████| 20/20 [00:02<00:00,  8.32it/s]\n",
      "Epoch 30:  90%|█████████ | 18/20 [00:01<00:00, 10.77it/s]\n",
      "Evaluating:   0%|          | 0/4 [00:00<?, ?it/s]\u001b[A\n",
      "Evaluating:  50%|█████     | 2/4 [00:00<00:00, 14.20it/s]\u001b[A\n",
      "Evaluating: 100%|██████████| 4/4 [00:00<00:00, 12.49it/s]\n",
      "\n",
      "Evaluating:   0%|          | 0/20 [00:00<?, ?it/s]\u001b[A\n",
      "Evaluating:  10%|█         | 2/20 [00:00<00:01, 17.33it/s]\u001b[A\n",
      "Evaluating:  20%|██        | 4/20 [00:00<00:01, 10.84it/s]\u001b[A\n",
      "Evaluating:  30%|███       | 6/20 [00:00<00:01, 11.79it/s]\u001b[A\n",
      "Evaluating:  45%|████▌     | 9/20 [00:00<00:00, 16.53it/s]\u001b[A\n",
      "Evaluating:  60%|██████    | 12/20 [00:00<00:00, 19.35it/s]\u001b[A\n",
      "Evaluating:  75%|███████▌  | 15/20 [00:00<00:00, 21.63it/s]\u001b[A\n",
      "Evaluating: 100%|██████████| 20/20 [00:01<00:00, 19.67it/s]\n",
      "Epoch 30: 100%|██████████| 20/20 [00:03<00:00,  6.31it/s]\n"
     ]
    },
    {
     "name": "stdout",
     "output_type": "stream",
     "text": [
      "\n",
      "Metrics step 600:\n",
      "  mean_train_loss: 0.2875929306385418\n",
      "  learning_rate: 0.07005002994999944\n",
      "  eval_loss: 0.8034123331308365\n",
      "  eval_accuracy: 0.847000002861023\n",
      "  train_loss: 0.030135322269052266\n",
      "  train_accuracy: 0.9890000224113464\n",
      "  mean_eval_loss: 0.6526804069677988\n"
     ]
    },
    {
     "name": "stderr",
     "output_type": "stream",
     "text": [
      "Epoch 31: 100%|██████████| 20/20 [00:01<00:00, 14.58it/s]\n",
      "Epoch 32: 100%|██████████| 20/20 [00:01<00:00, 14.58it/s]\n",
      "Epoch 33: 100%|██████████| 20/20 [00:01<00:00, 14.54it/s]\n",
      "Epoch 34: 100%|██████████| 20/20 [00:01<00:00, 14.48it/s]\n",
      "Epoch 35:  90%|█████████ | 18/20 [00:01<00:00, 14.00it/s]\n",
      "Evaluating:   0%|          | 0/4 [00:00<?, ?it/s]\u001b[A\n",
      "Evaluating:  50%|█████     | 2/4 [00:00<00:00, 18.97it/s]\u001b[A\n",
      "Evaluating: 100%|██████████| 4/4 [00:00<00:00, 16.06it/s]\n",
      "\n",
      "Evaluating:   0%|          | 0/20 [00:00<?, ?it/s]\u001b[A\n",
      "Evaluating:  10%|█         | 2/20 [00:00<00:01, 14.24it/s]\u001b[A\n",
      "Evaluating:  25%|██▌       | 5/20 [00:00<00:00, 20.71it/s]\u001b[A\n",
      "Evaluating:  40%|████      | 8/20 [00:00<00:00, 23.50it/s]\u001b[A\n",
      "Evaluating:  55%|█████▌    | 11/20 [00:00<00:00, 25.22it/s]\u001b[A\n",
      "Evaluating:  70%|███████   | 14/20 [00:00<00:00, 25.93it/s]\u001b[A\n",
      "Evaluating: 100%|██████████| 20/20 [00:00<00:00, 25.07it/s]\n",
      "Epoch 35: 100%|██████████| 20/20 [00:02<00:00,  8.03it/s]\n"
     ]
    },
    {
     "name": "stdout",
     "output_type": "stream",
     "text": [
      "\n",
      "Metrics step 700:\n",
      "  mean_train_loss: 0.24921403876406006\n",
      "  learning_rate: 0.06505003494999935\n",
      "  eval_loss: 0.9830322861671448\n",
      "  eval_accuracy: 0.8410000205039978\n",
      "  train_loss: 0.06585393389686942\n",
      "  train_accuracy: 0.9778000116348267\n",
      "  mean_eval_loss: 0.6998735325677055\n"
     ]
    },
    {
     "name": "stderr",
     "output_type": "stream",
     "text": [
      "Epoch 36: 100%|██████████| 20/20 [00:01<00:00, 14.37it/s]\n",
      "Epoch 37: 100%|██████████| 20/20 [00:01<00:00, 14.47it/s]\n",
      "Epoch 38: 100%|██████████| 20/20 [00:01<00:00, 14.36it/s]\n",
      "Epoch 39: 100%|██████████| 20/20 [00:01<00:00, 14.34it/s]\n",
      "Epoch 40:  90%|█████████ | 18/20 [00:01<00:00, 14.06it/s]\n",
      "Evaluating:   0%|          | 0/4 [00:00<?, ?it/s]\u001b[A\n",
      "Evaluating: 100%|██████████| 4/4 [00:00<00:00, 28.90it/s]\n",
      "\n",
      "Evaluating:   0%|          | 0/20 [00:00<?, ?it/s]\u001b[A\n",
      "Evaluating:  15%|█▌        | 3/20 [00:00<00:00, 28.85it/s]\u001b[A\n",
      "Evaluating:  30%|███       | 6/20 [00:00<00:00, 28.33it/s]\u001b[A\n",
      "Evaluating:  45%|████▌     | 9/20 [00:00<00:00, 28.45it/s]\u001b[A\n",
      "Evaluating:  60%|██████    | 12/20 [00:00<00:00, 28.76it/s]\u001b[A\n",
      "Evaluating:  75%|███████▌  | 15/20 [00:00<00:00, 28.52it/s]\u001b[A\n",
      "Evaluating: 100%|██████████| 20/20 [00:00<00:00, 28.66it/s]\n",
      "Epoch 40: 100%|██████████| 20/20 [00:02<00:00,  8.87it/s]\n"
     ]
    },
    {
     "name": "stdout",
     "output_type": "stream",
     "text": [
      "\n",
      "Metrics step 800:\n",
      "  mean_train_loss: 0.22051296433171955\n",
      "  learning_rate: 0.06005003994999934\n",
      "  eval_loss: 1.0476730912923813\n",
      "  eval_accuracy: 0.8569999933242798\n",
      "  train_loss: 0.0122539255884476\n",
      "  train_accuracy: 0.9962000250816345\n",
      "  mean_eval_loss: 0.7433484774082899\n"
     ]
    },
    {
     "name": "stderr",
     "output_type": "stream",
     "text": [
      "Epoch 41: 100%|██████████| 20/20 [00:01<00:00, 14.22it/s]\n",
      "Epoch 42: 100%|██████████| 20/20 [00:01<00:00, 14.22it/s]\n",
      "Epoch 43: 100%|██████████| 20/20 [00:01<00:00, 14.07it/s]\n",
      "Epoch 44: 100%|██████████| 20/20 [00:01<00:00, 14.12it/s]\n",
      "Epoch 45:  90%|█████████ | 18/20 [00:01<00:00, 13.89it/s]\n",
      "Evaluating:   0%|          | 0/4 [00:00<?, ?it/s]\u001b[A\n",
      "Evaluating: 100%|██████████| 4/4 [00:00<00:00, 27.32it/s]\n",
      "\n",
      "Evaluating:   0%|          | 0/20 [00:00<?, ?it/s]\u001b[A\n",
      "Evaluating:  15%|█▌        | 3/20 [00:00<00:00, 26.27it/s]\u001b[A\n",
      "Evaluating:  30%|███       | 6/20 [00:00<00:00, 26.78it/s]\u001b[A\n",
      "Evaluating:  45%|████▌     | 9/20 [00:00<00:00, 26.96it/s]\u001b[A\n",
      "Evaluating:  60%|██████    | 12/20 [00:00<00:00, 27.48it/s]\u001b[A\n",
      "Evaluating:  75%|███████▌  | 15/20 [00:00<00:00, 27.88it/s]\u001b[A\n",
      "Evaluating: 100%|██████████| 20/20 [00:00<00:00, 28.01it/s]\n",
      "Epoch 45: 100%|██████████| 20/20 [00:02<00:00,  8.71it/s]\n"
     ]
    },
    {
     "name": "stdout",
     "output_type": "stream",
     "text": [
      "\n",
      "Metrics step 900:\n",
      "  mean_train_loss: 0.19632413880293217\n",
      "  learning_rate: 0.055050044949999356\n",
      "  eval_loss: 1.077042281627655\n",
      "  eval_accuracy: 0.8669999837875366\n",
      "  train_loss: 0.0005295406095683575\n",
      "  train_accuracy: 1.0\n",
      "  mean_eval_loss: 0.7804255667659972\n"
     ]
    },
    {
     "name": "stderr",
     "output_type": "stream",
     "text": [
      "Epoch 46: 100%|██████████| 20/20 [00:01<00:00, 14.04it/s]\n",
      "Epoch 47: 100%|██████████| 20/20 [00:01<00:00, 14.16it/s]\n",
      "Epoch 48: 100%|██████████| 20/20 [00:01<00:00, 14.08it/s]\n",
      "Epoch 49: 100%|██████████| 20/20 [00:01<00:00, 13.99it/s]\n",
      "Epoch 50:  90%|█████████ | 18/20 [00:01<00:00, 13.68it/s]\n",
      "Evaluating:   0%|          | 0/4 [00:00<?, ?it/s]\u001b[A\n",
      "Evaluating:  50%|█████     | 2/4 [00:00<00:00, 16.58it/s]\u001b[A\n",
      "Evaluating: 100%|██████████| 4/4 [00:00<00:00, 17.02it/s]\n",
      "\n",
      "Evaluating:   0%|          | 0/20 [00:00<?, ?it/s]\u001b[A\n",
      "Evaluating:  15%|█▌        | 3/20 [00:00<00:00, 25.84it/s]\u001b[A\n",
      "Evaluating:  30%|███       | 6/20 [00:00<00:00, 25.57it/s]\u001b[A\n",
      "Evaluating:  45%|████▌     | 9/20 [00:00<00:00, 26.16it/s]\u001b[A\n",
      "Evaluating:  60%|██████    | 12/20 [00:00<00:00, 26.51it/s]\u001b[A\n",
      "Evaluating:  75%|███████▌  | 15/20 [00:00<00:00, 25.86it/s]\u001b[A\n",
      "Evaluating: 100%|██████████| 20/20 [00:00<00:00, 26.38it/s]\n",
      "Epoch 50: 100%|██████████| 20/20 [00:02<00:00,  8.11it/s]\n"
     ]
    },
    {
     "name": "stdout",
     "output_type": "stream",
     "text": [
      "\n",
      "Metrics step 1000:\n",
      "  mean_train_loss: 0.17677460269760922\n",
      "  learning_rate: 0.050050049949999446\n",
      "  eval_loss: 1.12192040681839\n",
      "  eval_accuracy: 0.8709999918937683\n",
      "  train_loss: 0.00012187913926027249\n",
      "  train_accuracy: 1.0\n",
      "  mean_eval_loss: 0.8145750507712364\n"
     ]
    },
    {
     "name": "stderr",
     "output_type": "stream",
     "text": [
      "Epoch 51: 100%|██████████| 20/20 [00:01<00:00, 14.04it/s]\n",
      "Epoch 52: 100%|██████████| 20/20 [00:01<00:00, 13.98it/s]\n",
      "Epoch 53: 100%|██████████| 20/20 [00:01<00:00, 13.91it/s]\n",
      "Epoch 54: 100%|██████████| 20/20 [00:01<00:00, 13.94it/s]\n",
      "Epoch 55:  90%|█████████ | 18/20 [00:01<00:00, 13.56it/s]\n",
      "Evaluating:   0%|          | 0/4 [00:00<?, ?it/s]\u001b[A\n",
      "Evaluating: 100%|██████████| 4/4 [00:00<00:00, 28.17it/s]\n",
      "\n",
      "Evaluating:   0%|          | 0/20 [00:00<?, ?it/s]\u001b[A\n",
      "Evaluating:  15%|█▌        | 3/20 [00:00<00:00, 28.44it/s]\u001b[A\n",
      "Evaluating:  30%|███       | 6/20 [00:00<00:00, 28.26it/s]\u001b[A\n",
      "Evaluating:  45%|████▌     | 9/20 [00:00<00:00, 27.24it/s]\u001b[A\n",
      "Evaluating:  60%|██████    | 12/20 [00:00<00:00, 27.73it/s]\u001b[A\n",
      "Evaluating:  75%|███████▌  | 15/20 [00:00<00:00, 27.42it/s]\u001b[A\n",
      "Evaluating: 100%|██████████| 20/20 [00:00<00:00, 27.95it/s]\n",
      "Epoch 55: 100%|██████████| 20/20 [00:02<00:00,  8.58it/s]\n"
     ]
    },
    {
     "name": "stdout",
     "output_type": "stream",
     "text": [
      "\n",
      "Metrics step 1100:\n",
      "  mean_train_loss: 0.16072376397292829\n",
      "  learning_rate: 0.045050054949999536\n",
      "  eval_loss: 1.1222764253616333\n",
      "  eval_accuracy: 0.8610000014305115\n",
      "  train_loss: 8.674133550812257e-05\n",
      "  train_accuracy: 1.0\n",
      "  mean_eval_loss: 0.842547903006727\n"
     ]
    },
    {
     "name": "stderr",
     "output_type": "stream",
     "text": [
      "Epoch 56: 100%|██████████| 20/20 [00:01<00:00, 13.76it/s]\n",
      "Epoch 57: 100%|██████████| 20/20 [00:01<00:00, 13.65it/s]\n",
      "Epoch 58: 100%|██████████| 20/20 [00:01<00:00, 13.53it/s]\n",
      "Epoch 59: 100%|██████████| 20/20 [00:01<00:00, 13.76it/s]\n",
      "Epoch 60:  90%|█████████ | 18/20 [00:01<00:00, 13.43it/s]\n",
      "Evaluating:   0%|          | 0/4 [00:00<?, ?it/s]\u001b[A\n",
      "Evaluating: 100%|██████████| 4/4 [00:00<00:00, 29.48it/s]\n",
      "\n",
      "Evaluating:   0%|          | 0/20 [00:00<?, ?it/s]\u001b[A\n",
      "Evaluating:  15%|█▌        | 3/20 [00:00<00:00, 28.14it/s]\u001b[A\n",
      "Evaluating:  30%|███       | 6/20 [00:00<00:00, 28.41it/s]\u001b[A\n",
      "Evaluating:  45%|████▌     | 9/20 [00:00<00:00, 14.21it/s]\u001b[A\n",
      "Evaluating:  55%|█████▌    | 11/20 [00:00<00:00, 15.54it/s]\u001b[A\n",
      "Evaluating:  70%|███████   | 14/20 [00:00<00:00, 18.82it/s]\u001b[A\n",
      "Evaluating: 100%|██████████| 20/20 [00:00<00:00, 20.87it/s]\n",
      "Epoch 60: 100%|██████████| 20/20 [00:02<00:00,  7.74it/s]\n"
     ]
    },
    {
     "name": "stdout",
     "output_type": "stream",
     "text": [
      "\n",
      "Metrics step 1200:\n",
      "  mean_train_loss: 0.1473429160192821\n",
      "  learning_rate: 0.04005005994999966\n",
      "  eval_loss: 1.1537262946367264\n",
      "  eval_accuracy: 0.8629999756813049\n",
      "  train_loss: 6.542224982695189e-05\n",
      "  train_accuracy: 1.0\n",
      "  mean_eval_loss: 0.8684794356425604\n"
     ]
    },
    {
     "name": "stderr",
     "output_type": "stream",
     "text": [
      "Epoch 61: 100%|██████████| 20/20 [00:01<00:00, 12.02it/s]\n",
      "Epoch 62: 100%|██████████| 20/20 [00:01<00:00, 13.53it/s]\n",
      "Epoch 63: 100%|██████████| 20/20 [00:01<00:00, 13.58it/s]\n",
      "Epoch 64: 100%|██████████| 20/20 [00:01<00:00, 13.40it/s]\n",
      "Epoch 65:  90%|█████████ | 18/20 [00:01<00:00, 13.26it/s]\n",
      "Evaluating:   0%|          | 0/4 [00:00<?, ?it/s]\u001b[A\n",
      "Evaluating: 100%|██████████| 4/4 [00:00<00:00, 26.79it/s]\n",
      "\n",
      "Evaluating:   0%|          | 0/20 [00:00<?, ?it/s]\u001b[A\n",
      "Evaluating:  15%|█▌        | 3/20 [00:00<00:00, 29.93it/s]\u001b[A\n",
      "Evaluating:  30%|███       | 6/20 [00:00<00:00, 28.29it/s]\u001b[A\n",
      "Evaluating:  45%|████▌     | 9/20 [00:00<00:00, 28.39it/s]\u001b[A\n",
      "Evaluating:  60%|██████    | 12/20 [00:00<00:00, 27.89it/s]\u001b[A\n",
      "Evaluating:  75%|███████▌  | 15/20 [00:00<00:00, 27.66it/s]\u001b[A\n",
      "Evaluating: 100%|██████████| 20/20 [00:00<00:00, 28.27it/s]\n",
      "Epoch 65: 100%|██████████| 20/20 [00:02<00:00,  8.45it/s]\n"
     ]
    },
    {
     "name": "stdout",
     "output_type": "stream",
     "text": [
      "\n",
      "Metrics step 1300:\n",
      "  mean_train_loss: 0.1360191204633716\n",
      "  learning_rate: 0.03505006494999977\n",
      "  eval_loss: 1.1706415563821793\n",
      "  eval_accuracy: 0.8629999756813049\n",
      "  train_loss: 5.4759081831434744e-05\n",
      "  train_accuracy: 1.0\n",
      "  mean_eval_loss: 0.8917226756994541\n"
     ]
    },
    {
     "name": "stderr",
     "output_type": "stream",
     "text": [
      "Epoch 66: 100%|██████████| 20/20 [00:01<00:00, 13.38it/s]\n",
      "Epoch 67: 100%|██████████| 20/20 [00:01<00:00, 13.45it/s]\n",
      "Epoch 68: 100%|██████████| 20/20 [00:01<00:00, 13.46it/s]\n",
      "Epoch 69: 100%|██████████| 20/20 [00:01<00:00, 13.43it/s]\n",
      "Epoch 70:  90%|█████████ | 18/20 [00:01<00:00, 13.11it/s]\n",
      "Evaluating:   0%|          | 0/4 [00:00<?, ?it/s]\u001b[A\n",
      "Evaluating: 100%|██████████| 4/4 [00:00<00:00, 28.24it/s]\n",
      "\n",
      "Evaluating:   0%|          | 0/20 [00:00<?, ?it/s]\u001b[A\n",
      "Evaluating:  15%|█▌        | 3/20 [00:00<00:00, 27.99it/s]\u001b[A\n",
      "Evaluating:  30%|███       | 6/20 [00:00<00:00, 27.07it/s]\u001b[A\n",
      "Evaluating:  45%|████▌     | 9/20 [00:00<00:00, 27.29it/s]\u001b[A\n",
      "Evaluating:  60%|██████    | 12/20 [00:00<00:00, 22.56it/s]\u001b[A\n",
      "Evaluating:  75%|███████▌  | 15/20 [00:00<00:00, 21.18it/s]\u001b[A\n",
      "Evaluating: 100%|██████████| 20/20 [00:00<00:00, 22.00it/s]\n",
      "Epoch 70: 100%|██████████| 20/20 [00:02<00:00,  7.74it/s]\n"
     ]
    },
    {
     "name": "stdout",
     "output_type": "stream",
     "text": [
      "\n",
      "Metrics step 1400:\n",
      "  mean_train_loss: 0.1263113163125971\n",
      "  learning_rate: 0.030050069949999845\n",
      "  eval_loss: 1.1693153530359268\n",
      "  eval_accuracy: 0.8659999966621399\n",
      "  train_loss: 4.676384814956691e-05\n",
      "  train_accuracy: 1.0\n",
      "  mean_eval_loss: 0.9115507240806308\n"
     ]
    },
    {
     "name": "stderr",
     "output_type": "stream",
     "text": [
      "Epoch 71: 100%|██████████| 20/20 [00:01<00:00, 13.18it/s]\n",
      "Epoch 72: 100%|██████████| 20/20 [00:01<00:00, 13.29it/s]\n",
      "Epoch 73: 100%|██████████| 20/20 [00:01<00:00, 13.26it/s]\n",
      "Epoch 74: 100%|██████████| 20/20 [00:01<00:00, 13.24it/s]\n",
      "Epoch 75:  90%|█████████ | 18/20 [00:01<00:00, 12.30it/s]\n",
      "Evaluating:   0%|          | 0/4 [00:00<?, ?it/s]\u001b[A\n",
      "Evaluating: 100%|██████████| 4/4 [00:00<00:00, 28.76it/s]\n",
      "\n",
      "Evaluating:   0%|          | 0/20 [00:00<?, ?it/s]\u001b[A\n",
      "Evaluating:  15%|█▌        | 3/20 [00:00<00:00, 24.53it/s]\u001b[A\n",
      "Evaluating:  30%|███       | 6/20 [00:00<00:00, 26.83it/s]\u001b[A\n",
      "Evaluating:  45%|████▌     | 9/20 [00:00<00:00, 27.48it/s]\u001b[A\n",
      "Evaluating:  60%|██████    | 12/20 [00:00<00:00, 22.61it/s]\u001b[A\n",
      "Evaluating:  75%|███████▌  | 15/20 [00:00<00:00, 19.06it/s]\u001b[A\n",
      "Evaluating: 100%|██████████| 20/20 [00:00<00:00, 22.79it/s]\n",
      "Epoch 75: 100%|██████████| 20/20 [00:02<00:00,  7.39it/s]\n"
     ]
    },
    {
     "name": "stdout",
     "output_type": "stream",
     "text": [
      "\n",
      "Metrics step 1500:\n",
      "  mean_train_loss: 0.11789728275358236\n",
      "  learning_rate: 0.025050074949999862\n",
      "  eval_loss: 1.1847822219133377\n",
      "  eval_accuracy: 0.8659999966621399\n",
      "  train_loss: 4.0952842391561715e-05\n",
      "  train_accuracy: 1.0\n",
      "  mean_eval_loss: 0.9297661572694779\n"
     ]
    },
    {
     "name": "stderr",
     "output_type": "stream",
     "text": [
      "Epoch 76: 100%|██████████| 20/20 [00:01<00:00, 13.08it/s]\n",
      "Epoch 77: 100%|██████████| 20/20 [00:01<00:00, 13.07it/s]\n",
      "Epoch 78: 100%|██████████| 20/20 [00:01<00:00, 12.95it/s]\n",
      "Epoch 79: 100%|██████████| 20/20 [00:01<00:00, 13.08it/s]\n",
      "Epoch 80:  90%|█████████ | 18/20 [00:01<00:00, 12.74it/s]\n",
      "Evaluating:   0%|          | 0/4 [00:00<?, ?it/s]\u001b[A\n",
      "Evaluating: 100%|██████████| 4/4 [00:00<00:00, 28.08it/s]\n",
      "\n",
      "Evaluating:   0%|          | 0/20 [00:00<?, ?it/s]\u001b[A\n",
      "Evaluating:  15%|█▌        | 3/20 [00:00<00:00, 28.87it/s]\u001b[A\n",
      "Evaluating:  30%|███       | 6/20 [00:00<00:00, 27.62it/s]\u001b[A\n",
      "Evaluating:  45%|████▌     | 9/20 [00:00<00:00, 27.63it/s]\u001b[A\n",
      "Evaluating:  60%|██████    | 12/20 [00:00<00:00, 27.10it/s]\u001b[A\n",
      "Evaluating:  75%|███████▌  | 15/20 [00:00<00:00, 27.39it/s]\u001b[A\n",
      "Evaluating: 100%|██████████| 20/20 [00:00<00:00, 26.92it/s]\n",
      "Epoch 80: 100%|██████████| 20/20 [00:02<00:00,  8.13it/s]\n"
     ]
    },
    {
     "name": "stdout",
     "output_type": "stream",
     "text": [
      "\n",
      "Metrics step 1600:\n",
      "  mean_train_loss: 0.11053653197639506\n",
      "  learning_rate: 0.02005007994999987\n",
      "  eval_loss: 1.1841644048690796\n",
      "  eval_accuracy: 0.8629999756813049\n",
      "  train_loss: 4.575894463414443e-05\n",
      "  train_accuracy: 1.0\n",
      "  mean_eval_loss: 0.945666047744453\n"
     ]
    },
    {
     "name": "stderr",
     "output_type": "stream",
     "text": [
      "Epoch 81: 100%|██████████| 20/20 [00:01<00:00, 12.98it/s]\n",
      "Epoch 82: 100%|██████████| 20/20 [00:01<00:00, 12.98it/s]\n",
      "Epoch 83: 100%|██████████| 20/20 [00:01<00:00, 12.92it/s]\n",
      "Epoch 84: 100%|██████████| 20/20 [00:01<00:00, 12.83it/s]\n",
      "Epoch 85:  90%|█████████ | 18/20 [00:01<00:00, 12.55it/s]\n",
      "Evaluating:   0%|          | 0/4 [00:00<?, ?it/s]\u001b[A\n",
      "Evaluating: 100%|██████████| 4/4 [00:00<00:00, 18.97it/s]\n",
      "\n",
      "Evaluating:   0%|          | 0/20 [00:00<?, ?it/s]\u001b[A\n",
      "Evaluating:  15%|█▌        | 3/20 [00:00<00:00, 25.29it/s]\u001b[A\n",
      "Evaluating:  30%|███       | 6/20 [00:00<00:00, 25.95it/s]\u001b[A\n",
      "Evaluating:  45%|████▌     | 9/20 [00:00<00:00, 26.66it/s]\u001b[A\n",
      "Evaluating:  60%|██████    | 12/20 [00:00<00:00, 26.04it/s]\u001b[A\n",
      "Evaluating:  75%|███████▌  | 15/20 [00:00<00:00, 26.51it/s]\u001b[A\n",
      "Evaluating: 100%|██████████| 20/20 [00:00<00:00, 26.81it/s]\n",
      "Epoch 85: 100%|██████████| 20/20 [00:02<00:00,  7.81it/s]\n"
     ]
    },
    {
     "name": "stdout",
     "output_type": "stream",
     "text": [
      "\n",
      "Metrics step 1700:\n",
      "  mean_train_loss: 0.10404168476358096\n",
      "  learning_rate: 0.015050084949999864\n",
      "  eval_loss: 1.1663628369569778\n",
      "  eval_accuracy: 0.8650000095367432\n",
      "  train_loss: 4.4530126615427434e-05\n",
      "  train_accuracy: 1.0\n",
      "  mean_eval_loss: 0.958648211815778\n"
     ]
    },
    {
     "name": "stderr",
     "output_type": "stream",
     "text": [
      "Epoch 86: 100%|██████████| 20/20 [00:01<00:00, 12.90it/s]\n",
      "Epoch 87: 100%|██████████| 20/20 [00:01<00:00, 12.97it/s]\n",
      "Epoch 88: 100%|██████████| 20/20 [00:01<00:00, 12.94it/s]\n",
      "Epoch 89: 100%|██████████| 20/20 [00:01<00:00, 12.96it/s]\n",
      "Epoch 90:  90%|█████████ | 18/20 [00:01<00:00, 12.72it/s]\n",
      "Evaluating:   0%|          | 0/4 [00:00<?, ?it/s]\u001b[A\n",
      "Evaluating: 100%|██████████| 4/4 [00:00<00:00, 27.52it/s]\n",
      "\n",
      "Evaluating:   0%|          | 0/20 [00:00<?, ?it/s]\u001b[A\n",
      "Evaluating:  15%|█▌        | 3/20 [00:00<00:00, 28.46it/s]\u001b[A\n",
      "Evaluating:  30%|███       | 6/20 [00:00<00:00, 27.40it/s]\u001b[A\n",
      "Evaluating:  45%|████▌     | 9/20 [00:00<00:00, 27.85it/s]\u001b[A\n",
      "Evaluating:  60%|██████    | 12/20 [00:00<00:00, 27.49it/s]\u001b[A\n",
      "Evaluating:  75%|███████▌  | 15/20 [00:00<00:00, 27.76it/s]\u001b[A\n",
      "Evaluating: 100%|██████████| 20/20 [00:00<00:00, 27.52it/s]\n",
      "Epoch 90: 100%|██████████| 20/20 [00:02<00:00,  8.21it/s]\n"
     ]
    },
    {
     "name": "stdout",
     "output_type": "stream",
     "text": [
      "\n",
      "Metrics step 1800:\n",
      "  mean_train_loss: 0.09826714030257588\n",
      "  learning_rate: 0.010050089949999917\n",
      "  eval_loss: 1.1739370226860046\n",
      "  eval_accuracy: 0.8619999885559082\n",
      "  train_loss: 4.0962987986858936e-05\n",
      "  train_accuracy: 1.0\n",
      "  mean_eval_loss: 0.9706087013085684\n"
     ]
    },
    {
     "name": "stderr",
     "output_type": "stream",
     "text": [
      "Epoch 91: 100%|██████████| 20/20 [00:01<00:00, 12.89it/s]\n",
      "Epoch 92: 100%|██████████| 20/20 [00:01<00:00, 13.01it/s]\n",
      "Epoch 93: 100%|██████████| 20/20 [00:01<00:00, 13.08it/s]\n",
      "Epoch 94: 100%|██████████| 20/20 [00:01<00:00, 13.14it/s]\n",
      "Epoch 95:  90%|█████████ | 18/20 [00:01<00:00, 12.96it/s]\n",
      "Evaluating:   0%|          | 0/4 [00:00<?, ?it/s]\u001b[A\n",
      "Evaluating: 100%|██████████| 4/4 [00:00<00:00, 27.32it/s]\n",
      "\n",
      "Evaluating:   0%|          | 0/20 [00:00<?, ?it/s]\u001b[A\n",
      "Evaluating:  15%|█▌        | 3/20 [00:00<00:00, 29.10it/s]\u001b[A\n",
      "Evaluating:  30%|███       | 6/20 [00:00<00:00, 27.66it/s]\u001b[A\n",
      "Evaluating:  45%|████▌     | 9/20 [00:00<00:00, 26.96it/s]\u001b[A\n",
      "Evaluating:  60%|██████    | 12/20 [00:00<00:00, 27.20it/s]\u001b[A\n",
      "Evaluating:  75%|███████▌  | 15/20 [00:00<00:00, 26.78it/s]\u001b[A\n",
      "Evaluating: 100%|██████████| 20/20 [00:00<00:00, 27.79it/s]\n",
      "Epoch 95: 100%|██████████| 20/20 [00:02<00:00,  8.30it/s]\n"
     ]
    },
    {
     "name": "stdout",
     "output_type": "stream",
     "text": [
      "\n",
      "Metrics step 1900:\n",
      "  mean_train_loss: 0.09309977912014705\n",
      "  learning_rate: 0.005050094949999962\n",
      "  eval_loss: 1.173462450504303\n",
      "  eval_accuracy: 0.8629999756813049\n",
      "  train_loss: 3.986045703641139e-05\n",
      "  train_accuracy: 1.0\n",
      "  mean_eval_loss: 0.9812852144241333\n"
     ]
    },
    {
     "name": "stderr",
     "output_type": "stream",
     "text": [
      "Epoch 96: 100%|██████████| 20/20 [00:01<00:00, 13.06it/s]\n",
      "Epoch 97: 100%|██████████| 20/20 [00:01<00:00, 13.10it/s]\n",
      "Epoch 98: 100%|██████████| 20/20 [00:01<00:00, 13.19it/s]\n",
      "Epoch 99: 100%|██████████| 20/20 [00:01<00:00, 12.98it/s]\n",
      "Epoch 100:  90%|█████████ | 18/20 [00:01<00:00, 12.93it/s]\n",
      "Evaluating:   0%|          | 0/4 [00:00<?, ?it/s]\u001b[A\n",
      "Evaluating: 100%|██████████| 4/4 [00:00<00:00, 25.34it/s]\n",
      "\n",
      "Evaluating:   0%|          | 0/20 [00:00<?, ?it/s]\u001b[A\n",
      "Evaluating:  15%|█▌        | 3/20 [00:00<00:00, 27.38it/s]\u001b[A\n",
      "Evaluating:  30%|███       | 6/20 [00:00<00:00, 27.42it/s]\u001b[A\n",
      "Evaluating:  45%|████▌     | 9/20 [00:00<00:00, 27.46it/s]\u001b[A\n",
      "Evaluating:  60%|██████    | 12/20 [00:00<00:00, 27.32it/s]\u001b[A\n",
      "Evaluating:  75%|███████▌  | 15/20 [00:00<00:00, 26.91it/s]\u001b[A\n",
      "Evaluating: 100%|██████████| 20/20 [00:00<00:00, 27.66it/s]\n",
      "Epoch 100: 100%|██████████| 20/20 [00:02<00:00,  8.27it/s]"
     ]
    },
    {
     "name": "stdout",
     "output_type": "stream",
     "text": [
      "\n",
      "Metrics step 2000:\n",
      "  mean_train_loss: 0.0884499362166971\n",
      "  learning_rate: 5.009994999999962e-05\n",
      "  eval_loss: 1.186280518770218\n",
      "  eval_accuracy: 0.8610000014305115\n",
      "  train_loss: 3.860006745526334e-05\n",
      "  train_accuracy: 1.0\n",
      "  mean_eval_loss: 0.9915349796414376\n"
     ]
    },
    {
     "name": "stderr",
     "output_type": "stream",
     "text": [
      "\n"
     ]
    }
   ],
   "source": [
    "# TODO: set your hyperparameters\n",
    "bs = 256\n",
    "num_epochs = 100\n",
    "lr = 0.1\n",
    "eval_steps = 100\n",
    "\n",
    "# Create dataloaders\n",
    "train_dataloader = DataLoader(train_dataset, batch_size=bs, shuffle=True)\n",
    "validation_dataloader = DataLoader(validation_dataset, batch_size=bs, shuffle=False)\n",
    "test_dataloader = DataLoader(test_dataset, batch_size=bs, shuffle=False)\n",
    "\n",
    "# Instantiate a new model\n",
    "model = FashionMnistResNet18()\n",
    "\n",
    "# Train model and save training and evaluation metrics\n",
    "metrics_dict = train(\n",
    "    model, train_dataloader, validation_dataloader, num_epochs=num_epochs, lr=lr, eval_steps=eval_steps\n",
    ")"
   ]
  },
  {
   "cell_type": "markdown",
   "metadata": {
    "id": "C27zjwzquLGx"
   },
   "source": [
    "### 10. Load our saved best model checkpoint\n",
    "\n",
    "We can make use of the `load_best_model` function defined above to quickly load \\\n",
    "the best model checkpoint for further evaluation.\n",
    "\n",
    "You can find more information on saving and loading model weights at\n",
    "\n",
    "https://pytorch.org/tutorials/beginner/saving_loading_models.html."
   ]
  },
  {
   "cell_type": "code",
   "execution_count": 10,
   "metadata": {
    "colab": {
     "base_uri": "https://localhost:8080/"
    },
    "id": "w8AolrjruF4I",
    "outputId": "94746897-afa7-4082-bed7-ccab8f4b1454"
   },
   "outputs": [
    {
     "name": "stdout",
     "output_type": "stream",
     "text": [
      "Loaded best FashionMnistResNet18 model from best_model.pt\n",
      "\n"
     ]
    }
   ],
   "source": [
    "best_model = load_best_model(FashionMnistResNet18())"
   ]
  },
  {
   "cell_type": "markdown",
   "metadata": {
    "id": "t4DlELCbvybc"
   },
   "source": [
    "### 11. Evaluate your best model and visualize the confusion matrix\n",
    "\n",
    "TODO: You should implement this yourself using the functions defined above."
   ]
  },
  {
   "cell_type": "code",
   "execution_count": 40,
   "metadata": {
    "colab": {
     "base_uri": "https://localhost:8080/",
     "height": 506
    },
    "id": "WKHN3rh6v-mU",
    "outputId": "210aeaab-88d4-4571-cb2e-2fcd6e083d5a"
   },
   "outputs": [
    {
     "name": "stderr",
     "output_type": "stream",
     "text": [
      "Evaluating: 100%|██████████| 4/4 [00:00<00:00, 10.81it/s]\n"
     ]
    },
    {
     "name": "stdout",
     "output_type": "stream",
     "text": [
      "0.8399999737739563\n"
     ]
    },
    {
     "data": {
      "image/png": "[encoded data removed]",
      "text/plain": [
       "<Figure size 640x480 with 2 Axes>"
      ]
     },
     "metadata": {},
     "output_type": "display_data"
    }
   ],
   "source": [
    "\n",
    "test_metric = evaluate(best_model, test_dataloader)\n",
    "\n",
    "conf_matrix = test_metric[\"eval_conf_matrix\"] # get confusion matrix\n",
    "eval_loss = test_metric[\"eval_loss\"] # get evaluation loss\n",
    "eval_accuracy = test_metric[\"eval_accuracy\"] # get evaluation accuracy\n",
    "\n",
    "# get test accuracy of model at best validation loss:\n",
    "\n",
    "learning_step, min_mean_eval_loss = min(metrics_dict.items(), key=lambda x: x[1]['mean_eval_loss']) # get minimum mean evaluation loss from training metric\n",
    "test_accuracy = eval_accuracy # test accuracy at best validation loss \n",
    "print(\"Test accuracy: \" + test_accuracy)\n",
    "# visualize confusion matrix\n",
    "sns.heatmap(conf_matrix, annot=True, fmt='d', cmap='Reds')\n",
    "plt.title('Confusion Matrix for Evaluation on Test data')\n",
    "plt.xlabel('Predicted Labels')\n",
    "plt.ylabel('True Labels') # echt???\n",
    "plt.show()"
   ]
  },
  {
   "cell_type": "markdown",
   "metadata": {},
   "source": [
    "#### Discussion of confusion matrix \n",
    "\n"
   ]
  },
  {
   "cell_type": "markdown",
   "metadata": {
    "id": "VpGn2mqkv9H0"
   },
   "source": [
    "### 12. Plot your loss curves\n",
    "\n",
    "TODO: You should implement this yourself. Use the `metrics_dict` returned by the training loop."
   ]
  },
  {
   "cell_type": "code",
   "execution_count": 20,
   "metadata": {
    "colab": {
     "base_uri": "https://localhost:8080/",
     "height": 449
    },
    "id": "DJeeESOUwzVz",
    "outputId": "b7318de9-13ed-423b-e203-fe8353983990"
   },
   "outputs": [
    {
     "data": {
      "image/png": "[encoded data removed]",
      "text/plain": [
       "<Figure size 640x480 with 1 Axes>"
      ]
     },
     "metadata": {},
     "output_type": "display_data"
    }
   ],
   "source": [
    "# TODO\n",
    "training_steps = metrics_dict.keys()\n",
    "mean_eval_loss = [metrics_dict[key][\"mean_eval_loss\"] for key in training_steps]\n",
    "mean_train_loss = [metrics_dict[key][\"mean_train_loss\"] for key in training_steps]\n",
    "\n",
    "sns.lineplot(x=training_steps, y=mean_eval_loss, color=\"magenta\", label=\"mean evaluation loss\")\n",
    "sns.lineplot(x=training_steps, y=mean_train_loss, color=\"blue\", label=\"mean training loss\")\n",
    "plt.title(\"Mean evaluation and training loss\")\n",
    "plt.xlabel(\"Learning Step\")\n",
    "plt.ylabel(\"Mean Loss\")\n",
    "plt.show()\n",
    "# OVERFITTING"
   ]
  },
  {
   "cell_type": "markdown",
   "metadata": {
    "id": "T9B2Pp3ywDEf"
   },
   "source": [
    "### 12. Plot your accuracy curves\n",
    "\n",
    "TODO: You should implement this yourself. Use the `metrics_dict` returned by the training loop."
   ]
  },
  {
   "cell_type": "code",
   "execution_count": 27,
   "metadata": {
    "colab": {
     "base_uri": "https://localhost:8080/",
     "height": 472
    },
    "id": "5GkdPLh8w3oi",
    "outputId": "f7015d41-9f0c-49a2-d246-8cf21119d760"
   },
   "outputs": [
    {
     "data": {
      "image/png": "[encoded data removed]",
      "text/plain": [
       "<Figure size 640x480 with 1 Axes>"
      ]
     },
     "metadata": {},
     "output_type": "display_data"
    }
   ],
   "source": [
    "# TODO\n",
    "\n",
    "training_steps = metrics_dict.keys()\n",
    "eval_accuracy = [metrics_dict[key][\"eval_accuracy\"] for key in training_steps]\n",
    "train_accuracy = [metrics_dict[key][\"train_accuracy\"] for key in training_steps]\n",
    "\n",
    "sns.lineplot(x=training_steps, y=eval_accuracy, color=\"magenta\", label=\"evaluation accuracy\") # VALIDATION?\n",
    "sns.lineplot(x=training_steps, y=train_accuracy, color=\"blue\", label=\"training accuracy\")\n",
    "plt.title(\"Evaluation and Training Accuracy\")\n",
    "plt.xlabel(\"Learning Step\")\n",
    "plt.ylabel(\"Accuracy\")\n",
    "plt.show()"
   ]
  },
  {
   "cell_type": "markdown",
   "metadata": {},
   "source": [
    "#### Descriptions of plots:\n",
    "\n"
   ]
  }
 ],
 "metadata": {
  "accelerator": "GPU",
  "colab": {
   "provenance": []
  },
  "gpuClass": "standard",
  "kernelspec": {
   "display_name": "Python 3 (ipykernel)",
   "language": "python",
   "name": "python3"
  },
  "language_info": {
   "codemirror_mode": {
    "name": "ipython",
    "version": 3
   },
   "file_extension": ".py",
   "mimetype": "text/x-python",
   "name": "python",
   "nbconvert_exporter": "python",
   "pygments_lexer": "ipython3",
   "version": "3.8.16"
  }
 },
 "nbformat": 4,
 "nbformat_minor": 1
}
