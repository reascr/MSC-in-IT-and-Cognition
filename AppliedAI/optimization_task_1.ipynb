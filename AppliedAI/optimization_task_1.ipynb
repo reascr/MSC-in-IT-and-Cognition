{
 "cells": [
  {
   "cell_type": "markdown",
   "metadata": {
    "id": "uUXu44-JgeNK"
   },
   "source": [
    "# Knapsack problem optimization\n",
    "\n",
    "Problem: You are given a set of items, each with a weight and a value, and a knapsack with a maximum weight capacity. The goal is to determine the combination of items to include in the knapsack to maximize the total value without exceeding the weight capacity. Use simulated annealing, genetic algorithm, or other optimization method to find an approximate solution.\n",
    "\n",
    "Example:\n",
    "Imagine you have 4 items with weights 4, 3, 9, and 11kg respectively. These same items have a value of 33, 24, 100, and 93 units respectively. We can represent the `weights` and `values` with two arrays\n",
    "```\n",
    "weights = [4, 3, 9, 11]\n",
    "values = [33, 24, 100, 93]\n",
    "\n",
    "```\n",
    "We can add items 0 and 3 to the knapsack. `knapsack = [0, 3]`. The weight of the knapsack is then `knapsack_weight = weights[0] + weigths[3] = 15` and the total value of the knapsack is `knapsack_value = values[0] + values[3] = 126`."
   ]
  },
  {
   "cell_type": "markdown",
   "metadata": {
    "id": "dFhZrHoDgqWD"
   },
   "source": [
    "In this notebook we will randomly generate a problem. The seed is fixed so the problem is the same for multiple notebook runs."
   ]
  },
  {
   "cell_type": "code",
   "execution_count": null,
   "metadata": {
    "executionInfo": {
     "elapsed": 337,
     "status": "ok",
     "timestamp": 1722357686282,
     "user": {
      "displayName": "Đorđe Grbić",
      "userId": "17224412897437983949"
     },
     "user_tz": -120
    },
    "id": "go6mHDszZX4x"
   },
   "outputs": [],
   "source": [
    "import random\n",
    "num_items = 1000\n",
    "max_value = 100\n",
    "max_weight = 50\n",
    "random.seed(1333)\n",
    "values = [random.randint(1, max_value) for _ in range(num_items)]\n",
    "weights = [random.randint(1, max_weight) for _ in range(num_items)]"
   ]
  },
  {
   "cell_type": "code",
   "execution_count": null,
   "metadata": {
    "colab": {
     "base_uri": "https://localhost:8080/"
    },
    "executionInfo": {
     "elapsed": 5,
     "status": "ok",
     "timestamp": 1722357715724,
     "user": {
      "displayName": "Đorđe Grbić",
      "userId": "17224412897437983949"
     },
     "user_tz": -120
    },
    "id": "xO1SXJhThK-H",
    "outputId": "561f76f8-5dd4-4905-980b-922940541c2e"
   },
   "outputs": [],
   "source": [
    "# Let's print the values\n",
    "print(values)"
   ]
  },
  {
   "cell_type": "code",
   "execution_count": null,
   "metadata": {
    "colab": {
     "base_uri": "https://localhost:8080/"
    },
    "executionInfo": {
     "elapsed": 325,
     "status": "ok",
     "timestamp": 1722357734540,
     "user": {
      "displayName": "Đorđe Grbić",
      "userId": "17224412897437983949"
     },
     "user_tz": -120
    },
    "id": "xy2JS52GhSp2",
    "outputId": "8f240ac3-9678-4d7c-c7f6-4857a319c73c"
   },
   "outputs": [],
   "source": [
    "# Let's print the weights\n",
    "print(weights)"
   ]
  },
  {
   "cell_type": "markdown",
   "metadata": {
    "id": "Yw8N8NvufWDe"
   },
   "source": [
    "Max knapsack capacity\n",
    "(this is the value the knapsack should not exceed for the solution to be accepted)"
   ]
  },
  {
   "cell_type": "code",
   "execution_count": null,
   "metadata": {
    "id": "MOmCovdLhXx_"
   },
   "outputs": [],
   "source": [
    "max_knapsack_capacity = 500"
   ]
  },
  {
   "cell_type": "markdown",
   "metadata": {
    "id": "8KsdhupRhsK7"
   },
   "source": [
    "The solution should look like:\n",
    "\n",
    "```\n",
    "Maximum value: [some_value]\n",
    "Number of items selected: [number_of_items]\n",
    "Selected items: [list_of_selected_item_indices]\n",
    "```\n",
    "\n",
    "### Maximum Value:\n",
    "\n",
    "This is the maximum total value of the items that can be included in the knapsack while staying within the capacity limit.\n",
    "Example: If the output is Maximum value: 4523, it means the best solution found by the algorithm yields a total value of 4523 units.\n",
    "\n",
    "### Number of Items Selected:\n",
    "\n",
    "This is the count of items that were chosen to be included in the knapsack to achieve the maximum value.\n",
    "Example: If the output is Number of items selected: 150, it means that among the 1000 items, 150 items were included in the knapsack.\n",
    "\n",
    "### Selected Items:\n",
    "\n",
    "This is a list of indices (or item IDs) of the items that are included in the knapsack.\n",
    "Example: If the output is Selected items: `[1, 4, 8, 23, ...]`, it means the items at these indices (e.g., item 1, item 4, item 8, item 23, etc.) were selected as part of the optimal solution.\n",
    "\n"
   ]
  },
  {
   "cell_type": "markdown",
   "metadata": {
    "id": "eZp3WmDyk5y0"
   },
   "source": [
    "## Implement the solution representation"
   ]
  },
  {
   "cell_type": "code",
   "execution_count": null,
   "metadata": {
    "id": "X3HayUfNlPK8"
   },
   "outputs": [],
   "source": []
  },
  {
   "cell_type": "markdown",
   "metadata": {
    "id": "MPY2uxtnlLZn"
   },
   "source": [
    "## Implement the algorithm\n",
    "make sure to comment on the code"
   ]
  },
  {
   "cell_type": "code",
   "execution_count": null,
   "metadata": {
    "id": "ePFIQbH7lQMd"
   },
   "outputs": [],
   "source": []
  },
  {
   "cell_type": "markdown",
   "metadata": {
    "id": "Hhw-7jE9lQzw"
   },
   "source": [
    "## Initialise the starting solution"
   ]
  },
  {
   "cell_type": "code",
   "execution_count": null,
   "metadata": {
    "id": "YwCtHgQFlrLP"
   },
   "outputs": [],
   "source": []
  },
  {
   "cell_type": "markdown",
   "metadata": {
    "id": "JIEhIiD5lY7z"
   },
   "source": [
    "## Run the optimization and plot the best solution in iteration"
   ]
  },
  {
   "cell_type": "code",
   "execution_count": null,
   "metadata": {
    "id": "2gwVc8xIlYta"
   },
   "outputs": [],
   "source": []
  },
  {
   "cell_type": "markdown",
   "metadata": {
    "id": "Y5D50cN0lEtO"
   },
   "source": [
    "## Print the solution"
   ]
  },
  {
   "cell_type": "code",
   "execution_count": null,
   "metadata": {
    "id": "F85QR0WfkyFC"
   },
   "outputs": [],
   "source": []
  }
 ],
 "metadata": {
  "colab": {
   "authorship_tag": "ABX9TyNji6Tg3csZdKC800ImPUwC",
   "provenance": []
  },
  "kernelspec": {
   "display_name": "Python 3",
   "name": "python3"
  },
  "language_info": {
   "name": "python"
  }
 },
 "nbformat": 4,
 "nbformat_minor": 0
}
