{
 "cells": [
  {
   "cell_type": "markdown",
   "metadata": {
    "id": "bZtG_pxuQkKt"
   },
   "source": [
    "# **Assignment 2**, **dataset 3**\n"
   ]
  },
  {
   "cell_type": "markdown",
   "metadata": {
    "id": "bzZrzrrM9OAZ"
   },
   "source": [
    "# Problem statement\n",
    "\n"
   ]
  },
  {
   "cell_type": "markdown",
   "metadata": {
    "id": "W1qvRTTB6v55"
   },
   "source": [
    "### Loading the dataset\n",
    "\n",
    "The PlantVillage dataset contains 54,304 images. The images span 14 crop species: Apple, Blueberry, Cherry, Corn, Grape, Orange, Peach, Bell Pepper, Potato, Raspberry, Soybean, Squash, Strawberry, Tomato. In containes images of 17 fungal diseases, 4 bacterial diseases, 2 mold (oomycete) diseases, 2 viral disease, and 1 disease caused by a mite. 12 crop species also have images of healthy leaves that are not visibly affected by a disease.\n",
    "\n",
    "https://arxiv.org/pdf/1511.08060\n",
    "\n",
    "https://github.com/gabrieldgf4/PlantVillage-Dataset\n",
    "\n",
    "For this assignment, you will make a model that predicts whether a bell pepper leaf comes from a healthy or unhealthy plant (binary classification). The healthy bell pepper leaf images are in the `Pepper,_bell___healthy` folder, while unhealthy cherry leaf images are in `Pepper,_bell___Bacterial_spot`. You are allowed to use a pretrained model that you transfer to this problem, if you whish so. Keep in mind that the dataset is somewhat uneven between the classes. Make sure to apply a technique to mitigate for that."
   ]
  },
  {
   "cell_type": "code",
   "execution_count": null,
   "metadata": {
    "id": "DzCocD5V4Y7o"
   },
   "outputs": [],
   "source": [
    "# Download the dataset\n",
    "!git clone https://github.com/gabrieldgf4/PlantVillage-Dataset.git"
   ]
  },
  {
   "cell_type": "markdown",
   "metadata": {
    "id": "v2yCqjPT5wK0"
   },
   "source": [
    "## **Exploratory Data Analysis**\n",
    "\n",
    "The student will have to make a written analysis of the data being loaded (depending on the dataset that was assigned to them). They should apply methods of inspecting the data and make some exploratory data analysis"
   ]
  },
  {
   "cell_type": "code",
   "execution_count": null,
   "metadata": {
    "id": "MHQSFRIJ5zj5"
   },
   "outputs": [],
   "source": []
  },
  {
   "cell_type": "markdown",
   "metadata": {
    "id": "MzBsdaAR5z_k"
   },
   "source": [
    "## **Data Preprocessing**:\n",
    "\n",
    "If applicable, the student will create new features from existing data to improve model performance and/or select the most relevant features for the model."
   ]
  },
  {
   "cell_type": "code",
   "execution_count": null,
   "metadata": {
    "id": "QryAkup26B_U"
   },
   "outputs": [],
   "source": []
  },
  {
   "cell_type": "markdown",
   "metadata": {
    "id": "jGZW9gvp6FGb"
   },
   "source": [
    "## **Data Transformation**\n",
    "\n",
    "The student should prepare the data for the training. Augmenting, splitting, and otherwise transforming should be done here."
   ]
  },
  {
   "cell_type": "code",
   "execution_count": null,
   "metadata": {
    "id": "cXwKVjdf6H9A"
   },
   "outputs": [],
   "source": []
  },
  {
   "cell_type": "markdown",
   "metadata": {
    "id": "ARBWNhl96MP9"
   },
   "source": [
    "## **Model Selection**\n",
    "\n",
    "\n",
    "The student should implement a simple model as a baseline to compare more complex models. The student should try more complex modes and justify their rejection or acceptance."
   ]
  },
  {
   "cell_type": "code",
   "execution_count": null,
   "metadata": {
    "id": "aNZp9ryo6U1M"
   },
   "outputs": [],
   "source": []
  },
  {
   "cell_type": "markdown",
   "metadata": {
    "id": "8rCblQr26VJL"
   },
   "source": [
    "## **Reporting the results**\n",
    "\n",
    "The student should report the results. Identify which features are most influential in the model’s predictions, if applicable for the dataset and model used."
   ]
  },
  {
   "cell_type": "code",
   "execution_count": null,
   "metadata": {
    "id": "3VRb9kfB6d9q"
   },
   "outputs": [],
   "source": []
  },
  {
   "cell_type": "markdown",
   "metadata": {
    "id": "Pp_ic2cA6eil"
   },
   "source": [
    "**Extra**: Any additional discussion and extra work relevant for solving the problem is welcome by the student and will contribute to a better grade."
   ]
  },
  {
   "cell_type": "code",
   "execution_count": null,
   "metadata": {
    "id": "PZlGZOtb6o5n"
   },
   "outputs": [],
   "source": []
  }
 ],
 "metadata": {
  "colab": {
   "authorship_tag": "ABX9TyMlblFrnRhabO/Al3h5mZpJ",
   "provenance": []
  },
  "kernelspec": {
   "display_name": "Python 3",
   "name": "python3"
  },
  "language_info": {
   "name": "python"
  }
 },
 "nbformat": 4,
 "nbformat_minor": 0
}
