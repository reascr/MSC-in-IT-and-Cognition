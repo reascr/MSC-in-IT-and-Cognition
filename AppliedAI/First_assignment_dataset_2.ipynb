{
 "cells": [
  {
   "cell_type": "markdown",
   "metadata": {
    "id": "bZtG_pxuQkKt"
   },
   "source": [
    "# **Assignment 1**, **dataset 2**\n"
   ]
  },
  {
   "cell_type": "markdown",
   "metadata": {
    "id": "bzZrzrrM9OAZ"
   },
   "source": [
    "# Problem statement\n",
    "\n",
    "Statlog (German Credit Data)\n",
    "\n",
    "https://archive.ics.uci.edu/dataset/144/statlog+german+credit+data <-- Refer to the documentation for the details that are not mentioned here\n",
    "\n",
    "This dataset classifies people described by a set of attributes as good or bad credit risks. The dataset uses codes to describe the categorigal attributes. Make sure to deal with those appropriatelly. See the documentation link above.\n",
    "\n",
    "Cost Matrix\n",
    "\n",
    "This dataset requires use of a cost matrix (see below)\n",
    "\n",
    "\n",
    "\n",
    "\n",
    "|   | 1 | 2 |\n",
    "|---|---|---|\n",
    "| 1 | 0 | 1 |\n",
    "| 2 | 5 | 0 |\n",
    "\n",
    "(1 = Good,  2 = Bad)\n",
    "\n",
    "the rows represent the actual classification and the columns\n",
    "the predicted classification.\n",
    "\n",
    "It is worse to class a customer as good when they are bad (cost 5), \n",
    "than it is to class a customer as bad when they are good (cost 1).\n",
    "\n",
    "Make sure to include this information when reporting your results\n"
   ]
  },
  {
   "cell_type": "markdown",
   "metadata": {
    "id": "W1qvRTTB6v55"
   },
   "source": [
    "### Loading the dataset"
   ]
  },
  {
   "cell_type": "code",
   "execution_count": null,
   "metadata": {
    "id": "fc33gHg8C_u9"
   },
   "outputs": [],
   "source": [
    "!pip install ucimlrepo"
   ]
  },
  {
   "cell_type": "code",
   "execution_count": null,
   "metadata": {
    "id": "3DeI1JiRDBDm"
   },
   "outputs": [],
   "source": [
    "# You are free to use this code snippet in your Python environment or download the dataset manually and load into the notebook.\n",
    "from ucimlrepo import fetch_ucirepo\n",
    "\n",
    "# fetch dataset\n",
    "credit_data = fetch_ucirepo(id=144)\n",
    "\n",
    "# data (as pandas dataframes)\n",
    "X = credit_data.data.features\n",
    "y = credit_data.data.targets\n",
    "\n",
    "# metadata\n",
    "print(credit_data.metadata)\n",
    "\n",
    "# variable information\n",
    "print(credit_data.variables)\n",
    "\n",
    "# Make sure to split the data for validation"
   ]
  },
  {
   "cell_type": "markdown",
   "metadata": {
    "id": "v2yCqjPT5wK0"
   },
   "source": [
    "## **Exploratory Data Analysis**\n",
    "\n",
    "The student will have to make a written analysis of the data being loaded (depending on the dataset that was assigned to them). They should apply methods of inspecting the data and make some exploratory data analysis"
   ]
  },
  {
   "cell_type": "code",
   "execution_count": null,
   "metadata": {
    "id": "MHQSFRIJ5zj5"
   },
   "outputs": [],
   "source": []
  },
  {
   "cell_type": "markdown",
   "metadata": {
    "id": "MzBsdaAR5z_k"
   },
   "source": [
    "## **Data Preprocessing**:\n",
    "\n",
    "If applicable, the student will create new features from existing data to improve model performance and/or select the most relevant features for the model."
   ]
  },
  {
   "cell_type": "code",
   "execution_count": null,
   "metadata": {
    "id": "QryAkup26B_U"
   },
   "outputs": [],
   "source": []
  },
  {
   "cell_type": "markdown",
   "metadata": {
    "id": "jGZW9gvp6FGb"
   },
   "source": [
    "## **Data Transformation**\n",
    "\n",
    "The student should prepare the data for the training. Augmenting, splitting, and otherwise transforming should be done here."
   ]
  },
  {
   "cell_type": "code",
   "execution_count": null,
   "metadata": {
    "id": "cXwKVjdf6H9A"
   },
   "outputs": [],
   "source": []
  },
  {
   "cell_type": "markdown",
   "metadata": {
    "id": "ARBWNhl96MP9"
   },
   "source": [
    "## **Model Selection**\n",
    "\n",
    "\n",
    "The student should implement a simple model as a baseline to compare more complex models. The student should try more complex modes and justify their rejection or acceptance."
   ]
  },
  {
   "cell_type": "code",
   "execution_count": null,
   "metadata": {
    "id": "aNZp9ryo6U1M"
   },
   "outputs": [],
   "source": []
  },
  {
   "cell_type": "markdown",
   "metadata": {
    "id": "8rCblQr26VJL"
   },
   "source": [
    "## **Reporting the results**\n",
    "\n",
    "The student should report the results. Identify which features are most influential in the model’s predictions, if applicable for the dataset and model used."
   ]
  },
  {
   "cell_type": "code",
   "execution_count": null,
   "metadata": {
    "id": "3VRb9kfB6d9q"
   },
   "outputs": [],
   "source": []
  },
  {
   "cell_type": "markdown",
   "metadata": {
    "id": "Pp_ic2cA6eil"
   },
   "source": [
    "**Extra**: Any additional discussion and extra work relevant for solving the problem is welcome by the student and will contribute to a better grade."
   ]
  },
  {
   "cell_type": "code",
   "execution_count": null,
   "metadata": {
    "id": "PZlGZOtb6o5n"
   },
   "outputs": [],
   "source": []
  }
 ],
 "metadata": {
  "colab": {
   "authorship_tag": "ABX9TyMJLUyr9HPRiQBEyCS0MBNa",
   "provenance": []
  },
  "kernelspec": {
   "display_name": "Python 3",
   "name": "python3"
  },
  "language_info": {
   "name": "python"
  }
 },
 "nbformat": 4,
 "nbformat_minor": 0
}
